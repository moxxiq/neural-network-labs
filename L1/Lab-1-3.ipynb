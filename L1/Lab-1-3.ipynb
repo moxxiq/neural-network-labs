{
 "cells": [
  {
   "cell_type": "code",
   "execution_count": 194,
   "metadata": {},
   "outputs": [],
   "source": [
    "import numpy as np\n",
    "import pandas as pd\n",
    "import matplotlib.pyplot as plt\n",
    "plt.rcParams['figure.figsize'] = [10, 10]\n",
    "\n",
    "from IPython.display import display, Markdown, Math\n",
    "\n",
    "seed = 42"
   ]
  },
  {
   "cell_type": "markdown",
   "metadata": {},
   "source": [
    "_Частина 3_\n",
    "\n",
    "Завдання: розробити програмне забезпечення для реалізації двошарового персептрону із структурою 2-3-1.\n",
    "\n",
    "Передбачити режим навчання «ON-LINE» та режим розпізнавання.\n",
    "\n",
    "Піддослідна функція $х_1+х_2=у$"
   ]
  },
  {
   "cell_type": "code",
   "execution_count": 195,
   "metadata": {},
   "outputs": [],
   "source": [
    "class NeuralNetwork:\n",
    "    \"\"\"\n",
    "    N-layer neural network mathematic model with sigmoid activation function\n",
    "    \"\"\"\n",
    "\n",
    "    def __init__(self, npl, add_bias=True):\n",
    "        \"\"\"\n",
    "        Init starting values, first step\n",
    "        \n",
    "        Args:\n",
    "            npl: Neuron-per-Layer (i.e. 2-3-1 == [2, 3, 1])\n",
    "            add_bias: To add additional weight to itself on every neuron\n",
    "        \"\"\"\n",
    "        self._npl = npl\n",
    "        self.add_bias = add_bias\n",
    "        # First_neuron_number . depends on bias\n",
    "        self.one_or_zero = 1 if add_bias else 0\n",
    "        # Add bias neuron if it needed\n",
    "        self._inputs = []\n",
    "        self._result = []\n",
    "        \n",
    "        self.weights = []\n",
    "        for i in range(len(npl)-1):\n",
    "            w = np.random.default_rng(seed).uniform(\n",
    "                low=-1.0,\n",
    "                high=1.0,\n",
    "                size=(npl[i]+self.one_or_zero)*npl[i+1],\n",
    "            ).round(3).reshape((npl[i]+self.one_or_zero, npl[i+1]))\n",
    "            self.weights.append(w)\n",
    "            \n",
    "        self.neurons = []\n",
    "        for i in range(len(npl)):\n",
    "            self.neurons.append(\n",
    "                np.concatenate(([1], np.empty(npl[i])))\n",
    "                if self.add_bias else\n",
    "                np.empty(npl[i])\n",
    "            )\n",
    "        self.epoch_history = []  # same as y_i\n",
    "        self.error_history = []  # same as dn_i\n",
    "        \n",
    "\n",
    "    def sigm(self, x):\n",
    "        \"\"\"\n",
    "        Sigmoidal activation function\n",
    "        \"\"\"\n",
    "        return 1 / (1 + np.exp(-x))\n",
    "\n",
    "    def sigm_der(self, w):\n",
    "        \"\"\"\n",
    "        Args:\n",
    "            w: the previous output value of the neuron\n",
    "        \"\"\"\n",
    "        return w * (1 - w)\n",
    "\n",
    "    def _step_forward(self):\n",
    "        \"\"\"\n",
    "        Make one calculation forward through all NN\n",
    "        \"\"\"\n",
    "        for i in range(1, len(self._npl)):\n",
    "            self.neurons[i][self.one_or_zero:] = self.sigm(self.neurons[i-1] @ self.weights[i-1])\n",
    "            \n",
    "        self.epoch_history.append(self.neurons[-1][self.one_or_zero:])\n",
    "        self.error_history.append(\n",
    "            np.abs((self._result - self.epoch_history[-1]) / self._result)\n",
    "        )\n",
    "\n",
    "    def _back_propagate(self, learning_rate):\n",
    "        \"\"\"\n",
    "        Correct previous iteration\n",
    "        \"\"\"\n",
    "        l = learning_rate\n",
    "        last_delta_w = (self.neurons[-1][self.one_or_zero:] - self._result) * self.sigm_der(self.neurons[-1][self.one_or_zero:])\n",
    "        \n",
    "        for i in range(len(self._npl) - 2, -1, -1):\n",
    "            correction = np.transpose([self.neurons[i]]) @ ([last_delta_w]) * l\n",
    "            self.weights[i] -= correction\n",
    "            last_delta_w = (\n",
    "                (last_delta_w @ self.weights[i].T)\n",
    "                * self.sigm_der(self.neurons[i])\n",
    "            )[self.one_or_zero:]\n",
    "\n",
    "    def train(self, inputs, outputs, acceptable_error=0.01, learning_rate=0.1, max_epoch_iteration=5000):\n",
    "        \"\"\"\n",
    "        Train function\n",
    "        Make forward step and correct weights.\n",
    "        Loop that untill error will be small enough.\n",
    "        Limit maximum number of epochs.\n",
    "        \"\"\"\n",
    "        i = 1\n",
    "        inp_outps = list(zip(inputs, outputs))\n",
    "        enought = False\n",
    "        while (i < max_epoch_iteration) and (not enought):\n",
    "            for inp, outp in inp_outps:\n",
    "                self.neurons[0][self.one_or_zero:] = np.array(inp)\n",
    "                self._result = np.array(outp)\n",
    "                self._step_forward()\n",
    "                if self.error_history[-1] <= acceptable_error:\n",
    "                    enought = True\n",
    "                    break\n",
    "                self._back_propagate(learning_rate)\n",
    "                i += 1\n",
    "            np.random.shuffle(inp_outps)\n",
    "        return i\n",
    "    \n",
    "    def predict(self, input_vector):\n",
    "        \"\"\"\n",
    "        Predict input vector with current weights\n",
    "        \"\"\"\n",
    "        self.neurons[0][self.one_or_zero:] = np.array(input_vector)\n",
    "        self._step_forward()\n",
    "        return self.neurons[-1][self.one_or_zero:]"
   ]
  },
  {
   "cell_type": "code",
   "execution_count": 215,
   "metadata": {},
   "outputs": [],
   "source": [
    "perceptron = NeuralNetwork([2, 2, 1], add_bias=False)"
   ]
  },
  {
   "cell_type": "code",
   "execution_count": 216,
   "metadata": {},
   "outputs": [],
   "source": [
    "def gen_train(number):\n",
    "    for i in range(number):\n",
    "        x1 = round(np.random.default_rng().uniform(low=-10.0, high=10.0), 3)\n",
    "        y = round(np.random.default_rng().uniform(low=0, high=1.0), 3)\n",
    "        x2 = round(y-x1, 3)\n",
    "        yield [x1, x2], y\n",
    "    \n",
    "inputs, outputs = [], []\n",
    "for i, j in gen_train(100):\n",
    "    inputs.append(i)\n",
    "    outputs.append([j])\n",
    "\n",
    "# print(*list(zip(inputs, outputs)), sep='\\n')"
   ]
  },
  {
   "cell_type": "code",
   "execution_count": 217,
   "metadata": {},
   "outputs": [
    {
     "name": "stdout",
     "output_type": "stream",
     "text": [
      "Iterations number 40\n",
      "Final error [0.00738682]\n"
     ]
    }
   ],
   "source": [
    "iterations_number = perceptron.train(inputs, outputs, learning_rate=0.8, max_epoch_iteration=10000)\n",
    "print(\"Iterations number\", iterations_number)\n",
    "print(\"Final error\", perceptron.error_history[-1])"
   ]
  },
  {
   "cell_type": "code",
   "execution_count": 222,
   "metadata": {},
   "outputs": [
    {
     "data": {
      "image/png": "[encoded data removed]",
      "text/plain": [
       "<Figure size 720x720 with 1 Axes>"
      ]
     },
     "metadata": {
      "needs_background": "light"
     },
     "output_type": "display_data"
    }
   ],
   "source": [
    "x1 = np.arange(-1, 1, 0.01)\n",
    "x2 = np.arange(-1, 1, 0.01)\n",
    "xx1, xx2 = np.meshgrid(x1, x2, sparse=False)\n",
    "yy = np.empty(xx1.shape)\n",
    "for i in range(xx1.shape[0]):\n",
    "    for j in range(xx1.shape[1]):\n",
    "        yy[i][j] = perceptron.predict([xx1[i][j], xx2[i][j]])\n",
    "\n",
    "h = plt.contourf(xx1, xx2, yy,)\n",
    "plt.axis('scaled')\n",
    "plt.show()"
   ]
  },
  {
   "cell_type": "code",
   "execution_count": 220,
   "metadata": {},
   "outputs": [
    {
     "data": {
      "text/plain": [
       "array([0.57250288])"
      ]
     },
     "execution_count": 220,
     "metadata": {},
     "output_type": "execute_result"
    }
   ],
   "source": [
    "perceptron.predict([0.5, -0.2])"
   ]
  }
 ],
 "metadata": {
  "kernelspec": {
   "display_name": "Python 3",
   "language": "python",
   "name": "python3"
  },
  "language_info": {
   "codemirror_mode": {
    "name": "ipython",
    "version": 3
   },
   "file_extension": ".py",
   "mimetype": "text/x-python",
   "name": "python",
   "nbconvert_exporter": "python",
   "pygments_lexer": "ipython3",
   "version": "3.7.6"
  }
 },
 "nbformat": 4,
 "nbformat_minor": 5
}
