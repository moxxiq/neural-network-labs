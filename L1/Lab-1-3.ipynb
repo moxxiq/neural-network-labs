{
 "cells": [
  {
   "cell_type": "code",
   "execution_count": 1,
   "metadata": {},
   "outputs": [],
   "source": [
    "import numpy as np\n",
    "import pandas as pd\n",
    "import matplotlib.pyplot as plt\n",
    "\n",
    "from IPython.display import display, Markdown, Math\n",
    "\n",
    "seed = 42"
   ]
  },
  {
   "cell_type": "markdown",
   "metadata": {},
   "source": [
    "_Частина 3_\n",
    "\n",
    "Завдання: розробити програмне забезпечення для реалізації двошарового персептрону із структурою 2-3-1.\n",
    "\n",
    "Передбачити режим навчання «ON-LINE» та режим розпізнавання.\n",
    "\n",
    "Піддослідна функція $х_1+х_2=у$"
   ]
  },
  {
   "cell_type": "code",
   "execution_count": null,
   "metadata": {},
   "outputs": [],
   "source": []
  },
  {
   "cell_type": "code",
   "execution_count": 16,
   "metadata": {},
   "outputs": [],
   "source": [
    "class NeuralNetwork:\n",
    "    \"\"\"\n",
    "    N-layer neural network mathematic model with sigmoid activation function\n",
    "    \"\"\"\n",
    "\n",
    "    def __init__(self, start_vector, result, npl, add_bias=True):\n",
    "        \"\"\"\n",
    "        Init starting values, first step\n",
    "        \n",
    "        Args:\n",
    "            start_vector: input vector\n",
    "            result: predicted result after training\n",
    "            npl: Neuron-per-Layer (i.e. 2-3-1 == [2, 3, 1])\n",
    "        \"\"\"\n",
    "        self._npl = npl\n",
    "        self.add_bias = add_bias\n",
    "        # First_neuron_number . depends on bias\n",
    "        self.one_or_zero = 1 if self.add_bias else 0\n",
    "        self.one_or_none = 1 if self.add_bias else None\n",
    "        # Add bias neuron if it needed\n",
    "        self._inputs = np.concatenate((self.one_or_none, start_vector))\n",
    "        self._result = np.array(result)\n",
    "        self.weights = []\n",
    "        for i in range(len(npl)-1):\n",
    "            w = np.random.default_rng(seed).uniform(\n",
    "                low=0.3,\n",
    "                high=0.5,\n",
    "                size=(npl[i]+self.one_or_zero)*npl[i+1],\n",
    "            ).round(3).reshape((npl[i]+self.one_or_zero, npl[i+1]))\n",
    "            self.weights.append(w)\n",
    "        print(self.weights)\n",
    "        input()\n",
    "        self.neurons = []\n",
    "        self.neurons.append(self._inputs)\n",
    "        for i in range(1, len(npl)):\n",
    "            self.neurons.append(np.concatenate((self.one_or_none, np.empty(npl[i]))))\n",
    "        \n",
    "        self.epoch_history = []  # same as y_i # but this time it will be in each neuron\n",
    "        self.error_history = []  # same as dn_i\n",
    "        self._step_forward()\n",
    "        \n",
    "\n",
    "    def sigm(self, x):\n",
    "        \"\"\"\n",
    "        Sigmoidal activation function\n",
    "        \"\"\"\n",
    "        return 1 / (1 + np.exp(-x))\n",
    "\n",
    "    def sigm_der(self, w):\n",
    "        \"\"\"\n",
    "        Args:\n",
    "            w: the previous output value of the neuron\n",
    "        \"\"\"\n",
    "        return w * (1 - w)\n",
    "\n",
    "    def _step_forward(self):\n",
    "        \"\"\"\n",
    "        Make one calculation forward through all NN\n",
    "        \"\"\"\n",
    "        for i in range(1, len(self._npl)):\n",
    "            # TODO: check this multiplication\n",
    "            print(\"step forward\", i)\n",
    "            self.neurons[i] = np.dot(self.neurons[i-1][self.one_or_zero:], self.weights[-1])\n",
    "            \n",
    "        self.epoch_history.append(\n",
    "            self.sigm(np.dot(self._inputs, self.weights)))\n",
    "        self.error_history.append(\n",
    "            np.abs((self._result - self.epoch_history[-1]) / self._result)\n",
    "        )\n",
    "\n",
    "    def _back_propagate(self, learning_rate):\n",
    "        \"\"\"\n",
    "        Correct previous iteration\n",
    "        \"\"\"\n",
    "        l = learning_rate\n",
    "        # that's a local gradient\n",
    "        #         |-------------e-----------------------| * |------------derivative--------------|     \n",
    "        delta_w = (self._result - self.epoch_history[-1]) * self.sigm_der(self.epoch_history[-1])\n",
    "        #                  |--out signal--| |------|\n",
    "        correction = np.dot(self._inputs.T, delta_w*l)\n",
    "        self.weights += correction\n",
    "\n",
    "    def train(self, acceptable_error=0.01, learning_rate=0.1, max_epoch_iteration=50000):\n",
    "        \"\"\"\n",
    "        Train function\n",
    "        Make forward step and correct weights.\n",
    "        Loop that untill error will be small enough.\n",
    "        Limit maximum number of epochs.\n",
    "        \"\"\"\n",
    "        i = 1\n",
    "        while (self.error_history[-1] > acceptable_error) and i < max_epoch_iteration:\n",
    "            self._back_propagate(learning_rate)\n",
    "            self._step_forward()\n",
    "            i += 1\n",
    "    \n",
    "    def predict(self, input_vector):\n",
    "        \"\"\"\n",
    "        Predict input vector with current weights\n",
    "        \"\"\"\n",
    "        return self.sigm(np.dot(input_vector, self.weights))"
   ]
  },
  {
   "cell_type": "code",
   "execution_count": 17,
   "metadata": {},
   "outputs": [
    {
     "name": "stdout",
     "output_type": "stream",
     "text": [
      "[array([[0.455, 0.388, 0.472],\n",
      "       [0.439, 0.319, 0.495],\n",
      "       [0.452, 0.457, 0.326]]), array([[0.455],\n",
      "       [0.388],\n",
      "       [0.472],\n",
      "       [0.439]])]\n",
      "\n",
      "step forward 1\n"
     ]
    },
    {
     "ename": "ValueError",
     "evalue": "shapes (2,) and (4,1) not aligned: 2 (dim 0) != 4 (dim 0)",
     "output_type": "error",
     "traceback": [
      "\u001b[0;31m---------------------------------------------------------------------------\u001b[0m",
      "\u001b[0;31mValueError\u001b[0m                                Traceback (most recent call last)",
      "\u001b[0;32m<ipython-input-17-43f31b0ac243>\u001b[0m in \u001b[0;36m<module>\u001b[0;34m\u001b[0m\n\u001b[0;32m----> 1\u001b[0;31m \u001b[0mperceptron\u001b[0m \u001b[0;34m=\u001b[0m \u001b[0mNeuralNetwork\u001b[0m\u001b[0;34m(\u001b[0m\u001b[0;34m[\u001b[0m\u001b[0;36m2\u001b[0m\u001b[0;34m,\u001b[0m\u001b[0;36m2\u001b[0m\u001b[0;34m]\u001b[0m\u001b[0;34m,\u001b[0m \u001b[0;34m[\u001b[0m\u001b[0;36m4\u001b[0m\u001b[0;34m]\u001b[0m\u001b[0;34m,\u001b[0m \u001b[0;34m[\u001b[0m\u001b[0;36m2\u001b[0m\u001b[0;34m,\u001b[0m \u001b[0;36m3\u001b[0m\u001b[0;34m,\u001b[0m \u001b[0;36m1\u001b[0m\u001b[0;34m]\u001b[0m\u001b[0;34m)\u001b[0m\u001b[0;34m\u001b[0m\u001b[0;34m\u001b[0m\u001b[0m\n\u001b[0m",
      "\u001b[0;32m<ipython-input-16-7cf8bd29cb06>\u001b[0m in \u001b[0;36m__init__\u001b[0;34m(self, start_vector, result, npl)\u001b[0m\n\u001b[1;32m     33\u001b[0m         \u001b[0mself\u001b[0m\u001b[0;34m.\u001b[0m\u001b[0mepoch_history\u001b[0m \u001b[0;34m=\u001b[0m \u001b[0;34m[\u001b[0m\u001b[0;34m]\u001b[0m  \u001b[0;31m# same as y_i\u001b[0m\u001b[0;34m\u001b[0m\u001b[0;34m\u001b[0m\u001b[0m\n\u001b[1;32m     34\u001b[0m         \u001b[0mself\u001b[0m\u001b[0;34m.\u001b[0m\u001b[0merror_history\u001b[0m \u001b[0;34m=\u001b[0m \u001b[0;34m[\u001b[0m\u001b[0;34m]\u001b[0m  \u001b[0;31m# same as dn_i\u001b[0m\u001b[0;34m\u001b[0m\u001b[0;34m\u001b[0m\u001b[0m\n\u001b[0;32m---> 35\u001b[0;31m         \u001b[0mself\u001b[0m\u001b[0;34m.\u001b[0m\u001b[0m_step_forward\u001b[0m\u001b[0;34m(\u001b[0m\u001b[0;34m)\u001b[0m\u001b[0;34m\u001b[0m\u001b[0;34m\u001b[0m\u001b[0m\n\u001b[0m\u001b[1;32m     36\u001b[0m \u001b[0;34m\u001b[0m\u001b[0m\n\u001b[1;32m     37\u001b[0m \u001b[0;34m\u001b[0m\u001b[0m\n",
      "\u001b[0;32m<ipython-input-16-7cf8bd29cb06>\u001b[0m in \u001b[0;36m_step_forward\u001b[0;34m(self)\u001b[0m\n\u001b[1;32m     56\u001b[0m             \u001b[0;31m# TODO: check this multiplication\u001b[0m\u001b[0;34m\u001b[0m\u001b[0;34m\u001b[0m\u001b[0;34m\u001b[0m\u001b[0m\n\u001b[1;32m     57\u001b[0m             \u001b[0mprint\u001b[0m\u001b[0;34m(\u001b[0m\u001b[0;34m\"step forward\"\u001b[0m\u001b[0;34m,\u001b[0m \u001b[0mi\u001b[0m\u001b[0;34m)\u001b[0m\u001b[0;34m\u001b[0m\u001b[0;34m\u001b[0m\u001b[0m\n\u001b[0;32m---> 58\u001b[0;31m             \u001b[0mself\u001b[0m\u001b[0;34m.\u001b[0m\u001b[0mneurons\u001b[0m\u001b[0;34m[\u001b[0m\u001b[0mi\u001b[0m\u001b[0;34m]\u001b[0m \u001b[0;34m=\u001b[0m \u001b[0mnp\u001b[0m\u001b[0;34m.\u001b[0m\u001b[0mdot\u001b[0m\u001b[0;34m(\u001b[0m\u001b[0mself\u001b[0m\u001b[0;34m.\u001b[0m\u001b[0mneurons\u001b[0m\u001b[0;34m[\u001b[0m\u001b[0mi\u001b[0m\u001b[0;34m-\u001b[0m\u001b[0;36m1\u001b[0m\u001b[0;34m]\u001b[0m\u001b[0;34m,\u001b[0m \u001b[0mself\u001b[0m\u001b[0;34m.\u001b[0m\u001b[0mweights\u001b[0m\u001b[0;34m[\u001b[0m\u001b[0;34m-\u001b[0m\u001b[0;36m1\u001b[0m\u001b[0;34m]\u001b[0m\u001b[0;34m)\u001b[0m\u001b[0;34m\u001b[0m\u001b[0;34m\u001b[0m\u001b[0m\n\u001b[0m\u001b[1;32m     59\u001b[0m \u001b[0;34m\u001b[0m\u001b[0m\n\u001b[1;32m     60\u001b[0m         self.epoch_history.append(\n",
      "\u001b[0;32m<__array_function__ internals>\u001b[0m in \u001b[0;36mdot\u001b[0;34m(*args, **kwargs)\u001b[0m\n",
      "\u001b[0;31mValueError\u001b[0m: shapes (2,) and (4,1) not aligned: 2 (dim 0) != 4 (dim 0)"
     ]
    }
   ],
   "source": [
    "perceptron = NeuralNetwork([2,2], [4], [2, 3, 1])"
   ]
  },
  {
   "cell_type": "code",
   "execution_count": null,
   "metadata": {},
   "outputs": [],
   "source": []
  }
 ],
 "metadata": {
  "kernelspec": {
   "display_name": "Python 3",
   "language": "python",
   "name": "python3"
  },
  "language_info": {
   "codemirror_mode": {
    "name": "ipython",
    "version": 3
   },
   "file_extension": ".py",
   "mimetype": "text/x-python",
   "name": "python",
   "nbconvert_exporter": "python",
   "pygments_lexer": "ipython3",
   "version": "3.7.6"
  }
 },
 "nbformat": 4,
 "nbformat_minor": 5
}
