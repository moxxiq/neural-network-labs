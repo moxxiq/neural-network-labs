{
 "cells": [
  {
   "cell_type": "code",
   "execution_count": 3,
   "metadata": {},
   "outputs": [],
   "source": [
    "import numpy as np\n",
    "import pandas as pd\n",
    "import matplotlib.pyplot as plt\n",
    "\n",
    "from IPython.display import display, Markdown, Math\n",
    "\n",
    "seed = 42"
   ]
  },
  {
   "cell_type": "markdown",
   "metadata": {},
   "source": [
    "_Частина 3_\n",
    "\n",
    "Завдання: розробити програмне забезпечення для реалізації двошарового персептрону із структурою 2-3-1.\n",
    "\n",
    "Передбачити режим навчання «ON-LINE» та режим розпізнавання.\n",
    "\n",
    "Піддослідна функція $х_1+х_2=у$"
   ]
  },
  {
   "cell_type": "code",
   "execution_count": null,
   "metadata": {},
   "outputs": [],
   "source": []
  },
  {
   "cell_type": "code",
   "execution_count": 83,
   "metadata": {},
   "outputs": [],
   "source": [
    "class NeuralNetwork:\n",
    "    \"\"\"\n",
    "    N-layer neural network mathematic model with sigmoid activation function\n",
    "    \"\"\"\n",
    "\n",
    "    def __init__(self, npl, add_bias=True):\n",
    "        \"\"\"\n",
    "        Init starting values, first step\n",
    "        \n",
    "        Args:\n",
    "            npl: Neuron-per-Layer (i.e. 2-3-1 == [2, 3, 1])\n",
    "            add_bias: To add additional weight to itself on every neuron\n",
    "        \"\"\"\n",
    "        self._npl = npl\n",
    "        self.add_bias = add_bias\n",
    "        # First_neuron_number . depends on bias\n",
    "        self.one_or_zero = 1 if add_bias else 0\n",
    "        # Add bias neuron if it needed\n",
    "        self._inputs = []\n",
    "        self._result = []\n",
    "        \n",
    "        self.weights = []\n",
    "        for i in range(len(npl)-1):\n",
    "            w = np.random.default_rng(seed).uniform(\n",
    "                low=0.2,\n",
    "                high=0.6,\n",
    "                size=(npl[i]+self.one_or_zero)*npl[i+1],\n",
    "            ).round(3).reshape((npl[i]+self.one_or_zero, npl[i+1]))\n",
    "            self.weights.append(w)\n",
    "            \n",
    "        self.neurons = []\n",
    "        for i in range(len(npl)):\n",
    "            self.neurons.append(\n",
    "                np.concatenate(([1], np.empty(npl[i])))\n",
    "                if self.add_bias else\n",
    "                np.empty(npl[i])\n",
    "            )\n",
    "        self.epoch_history = []  # same as y_i # but this time it will be in each neuron\n",
    "        self.error_history = []  # same as dn_i\n",
    "        \n",
    "\n",
    "    def sigm(self, x):\n",
    "        \"\"\"\n",
    "        Sigmoidal activation function\n",
    "        \"\"\"\n",
    "        return 1 / (1 + np.exp(-x))\n",
    "\n",
    "    def sigm_der(self, w):\n",
    "        \"\"\"\n",
    "        Args:\n",
    "            w: the previous output value of the neuron\n",
    "        \"\"\"\n",
    "        return w * (1 - w)\n",
    "\n",
    "    def _step_forward(self):\n",
    "        \"\"\"\n",
    "        Make one calculation forward through all NN\n",
    "        \"\"\"\n",
    "        for i in range(1, len(self._npl)):\n",
    "            self.neurons[i][self.one_or_zero:] = self.sigm(self.neurons[i-1] @ self.weights[i-1])\n",
    "            \n",
    "        self.epoch_history.append(self.neurons[-1][self.one_or_zero:])\n",
    "        self.error_history.append(\n",
    "            np.abs((self._result - self.epoch_history[-1]) / self._result)\n",
    "        )\n",
    "\n",
    "    def _back_propagate(self, learning_rate):\n",
    "        \"\"\"\n",
    "        Correct previous iteration\n",
    "        \"\"\"\n",
    "        l = learning_rate\n",
    "        last_delta_w = (self.neurons[-1][self.one_or_zero:] - self._result) * self.sigm_der(self.neurons[-1][self.one_or_zero:])\n",
    "        \n",
    "        for i in range(len(self._npl) - 2, -1, -1):\n",
    "            correction = np.transpose([self.neurons[i]]) @ ([last_delta_w]) * l\n",
    "            self.weights[i] -= correction\n",
    "            last_delta_w = (\n",
    "                (last_delta_w @ self.weights[i].T)\n",
    "                * self.sigm_der(self.neurons[i])\n",
    "            )[self.one_or_zero:]\n",
    "\n",
    "    def train(self, inputs, outputs, acceptable_error=0.01, learning_rate=0.1, max_epoch_iteration=5000):\n",
    "        \"\"\"\n",
    "        Train function\n",
    "        Make forward step and correct weights.\n",
    "        Loop that untill error will be small enough.\n",
    "        Limit maximum number of epochs.\n",
    "        \"\"\"\n",
    "        i = 1\n",
    "        inp_outps = list(zip(inputs, outputs))\n",
    "        enought = False\n",
    "        while (i < max_epoch_iteration) and (not enought):\n",
    "            for inp, outp in inp_outps:\n",
    "                self.neurons[0][self.one_or_zero:] = np.array(inp)\n",
    "                self._result = np.array(outp)\n",
    "                self._step_forward()\n",
    "                if self.error_history[-1] <= acceptable_error:\n",
    "                    enought = True\n",
    "                    break\n",
    "                self._back_propagate(learning_rate)\n",
    "                i += 1\n",
    "            np.random.shuffle(inp_outps)\n",
    "        return i\n",
    "    \n",
    "    def predict(self, input_vector):\n",
    "        \"\"\"\n",
    "        Predict input vector with current weights\n",
    "        \"\"\"\n",
    "        self.neurons[0][self.one_or_zero:] = np.array(input_vector)\n",
    "        self._step_forward()\n",
    "        return self.neurons[-1][self.one_or_zero:]"
   ]
  },
  {
   "cell_type": "code",
   "execution_count": 85,
   "metadata": {},
   "outputs": [
    {
     "data": {
      "text/plain": [
       "1"
      ]
     },
     "execution_count": 85,
     "metadata": {},
     "output_type": "execute_result"
    }
   ],
   "source": [
    "perceptron = NeuralNetwork([2, 3, 1], add_bias=True)\n",
    "inputs = [[0.3, 0.1], [0.2, 0.6],]\n",
    "outputs = [[0.8], [0.4]]\n",
    "perceptron.train(inputs, outputs, learning_rate=1, max_epoch_iteration=10000)"
   ]
  },
  {
   "cell_type": "code",
   "execution_count": 86,
   "metadata": {},
   "outputs": [
    {
     "data": {
      "text/plain": [
       "array([0.80603937])"
      ]
     },
     "execution_count": 86,
     "metadata": {},
     "output_type": "execute_result"
    }
   ],
   "source": [
    "perceptron.error_history[-1]\n",
    "perceptron.predict([0.1, 0.3])"
   ]
  },
  {
   "cell_type": "code",
   "execution_count": null,
   "metadata": {},
   "outputs": [],
   "source": []
  }
 ],
 "metadata": {
  "kernelspec": {
   "display_name": "Python 3",
   "language": "python",
   "name": "python3"
  },
  "language_info": {
   "codemirror_mode": {
    "name": "ipython",
    "version": 3
   },
   "file_extension": ".py",
   "mimetype": "text/x-python",
   "name": "python",
   "nbconvert_exporter": "python",
   "pygments_lexer": "ipython3",
   "version": "3.7.6"
  }
 },
 "nbformat": 4,
 "nbformat_minor": 5
}
