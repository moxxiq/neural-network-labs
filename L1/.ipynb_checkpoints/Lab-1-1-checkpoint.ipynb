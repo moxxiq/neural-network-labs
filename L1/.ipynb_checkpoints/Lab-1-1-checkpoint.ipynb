{
 "cells": [
  {
   "cell_type": "code",
   "execution_count": 1,
   "metadata": {},
   "outputs": [],
   "source": [
    "import numpy as np\n",
    "import pandas as pd\n",
    "import matplotlib.pyplot as plt\n",
    "\n",
    "from IPython.display import display, Markdown, Math\n",
    "\n",
    "seed = 42"
   ]
  },
  {
   "cell_type": "markdown",
   "metadata": {},
   "source": [
    "_Частина 1_\n",
    "\n",
    "Завдання: розробити програмне забезпечення для реалізації класичного нейрону.\n",
    "\n",
    "Передбачити режим навчання класичного нейрону на одному навчальному прикладі та режим розпізнавання."
   ]
  },
  {
   "cell_type": "code",
   "execution_count": 2,
   "metadata": {},
   "outputs": [],
   "source": [
    "X = np.array(\n",
    "    [1, 3, 5, 7]\n",
    ")\n",
    "Y = np.array(\n",
    "    0.3\n",
    ")\n",
    "dd = 0.1 # acceptable error"
   ]
  },
  {
   "cell_type": "code",
   "execution_count": 3,
   "metadata": {},
   "outputs": [],
   "source": [
    "class Neuron:\n",
    "    \"\"\"\n",
    "    Neural neuron mathematic model with sigmoid activation function\n",
    "    \"\"\"\n",
    "\n",
    "    def __init__(self, start_vector, result):\n",
    "        \"\"\"\n",
    "        Init starting values, first step\n",
    "        \"\"\"\n",
    "        self._inputs = np.array(start_vector)\n",
    "        self._result = result\n",
    "        self.start_weights = np.random.default_rng(seed).uniform(\n",
    "            low=0.3,\n",
    "            high=0.5,\n",
    "            size=self._inputs.size,\n",
    "        ).round(3)\n",
    "        self.weights = self.start_weights.copy()\n",
    "        self.epoch_history = []  # same as y_i\n",
    "        self.error_history = []  # same as dn_i\n",
    "        self._step_forward()\n",
    "        \n",
    "\n",
    "    def sigm(self, x):\n",
    "        \"\"\"\n",
    "        Sigmoidal activation function\n",
    "        \"\"\"\n",
    "        return 1 / (1 + np.exp(-x))\n",
    "\n",
    "    def sigm_der(self, w):\n",
    "        \"\"\"\n",
    "        Args:\n",
    "            w: the previous output value of the neuron\n",
    "        \"\"\"\n",
    "        return w * (1 - w)\n",
    "\n",
    "    def _step_forward(self):\n",
    "        \"\"\"\n",
    "        Make one calculation forward\n",
    "        \"\"\"\n",
    "        self.epoch_history.append(\n",
    "            self.sigm(np.dot(self._inputs, self.weights)))\n",
    "        self.error_history.append(\n",
    "            np.abs((self._result - self.epoch_history[-1]) / self._result)\n",
    "        )\n",
    "\n",
    "    def _back_propagate(self):\n",
    "        \"\"\"\n",
    "        Correct previous iteration\n",
    "        \"\"\"\n",
    "        # that's a local gradient\n",
    "        #         |-------------e-----------------------| * |------------derivative--------------|     \n",
    "        delta_w = (self._result - self.epoch_history[-1]) * self.sigm_der(self.epoch_history[-1])\n",
    "        #                  |--out signal--| |------|\n",
    "        correction = np.dot(self._inputs.T, delta_w)\n",
    "        self.weights += correction\n",
    "\n",
    "    def train(self, acceptable_error=0.01, max_epoch_iteration=50000):\n",
    "        \"\"\"\n",
    "        Train function\n",
    "        Make forward step and correct weights.\n",
    "        Loop that untill error will be small enough.\n",
    "        Limit maximum number of epochs.\n",
    "        \"\"\"\n",
    "        i = 1\n",
    "        while (self.error_history[-1] > acceptable_error) and i < max_epoch_iteration:\n",
    "            self._back_propagate()\n",
    "            self._step_forward()\n",
    "            i += 1\n",
    "    \n",
    "    def predict(self, input_vector):\n",
    "        \"\"\"\n",
    "        Predict input vector with current weights\n",
    "        \"\"\"\n",
    "        return self.sigm(np.dot(input_vector, self.weights))"
   ]
  },
  {
   "cell_type": "code",
   "execution_count": 4,
   "metadata": {},
   "outputs": [
    {
     "data": {
      "text/markdown": [
       "Початкові випадково згенеровані ваги $$w_i = [0.455, 0.388, 0.472, 0.439]$$"
      ],
      "text/plain": [
       "<IPython.core.display.Markdown object>"
      ]
     },
     "metadata": {},
     "output_type": "display_data"
    },
    {
     "data": {
      "text/markdown": [
       "Кінцеві ваги після навчання $$w_i = [ 0.35971641,  0.10214924, -0.00441794, -0.22798511]$$"
      ],
      "text/plain": [
       "<IPython.core.display.Markdown object>"
      ]
     },
     "metadata": {},
     "output_type": "display_data"
    },
    {
     "data": {
      "text/markdown": [
       "## Результати роботи програми на кожній ітерації"
      ],
      "text/plain": [
       "<IPython.core.display.Markdown object>"
      ]
     },
     "metadata": {},
     "output_type": "display_data"
    },
    {
     "data": {
      "text/html": [
       "<div>\n",
       "<style scoped>\n",
       "    .dataframe tbody tr th:only-of-type {\n",
       "        vertical-align: middle;\n",
       "    }\n",
       "\n",
       "    .dataframe tbody tr th {\n",
       "        vertical-align: top;\n",
       "    }\n",
       "\n",
       "    .dataframe thead th {\n",
       "        text-align: right;\n",
       "    }\n",
       "</style>\n",
       "<table border=\"1\" class=\"dataframe\">\n",
       "  <thead>\n",
       "    <tr style=\"text-align: right;\">\n",
       "      <th></th>\n",
       "      <th>$$y_i$$</th>\n",
       "      <th>$$dn_i$$</th>\n",
       "    </tr>\n",
       "  </thead>\n",
       "  <tbody>\n",
       "    <tr>\n",
       "      <th>1</th>\n",
       "      <td>0.999135</td>\n",
       "      <td>2.330450</td>\n",
       "    </tr>\n",
       "    <tr>\n",
       "      <th>2</th>\n",
       "      <td>0.999090</td>\n",
       "      <td>2.330300</td>\n",
       "    </tr>\n",
       "    <tr>\n",
       "      <th>3</th>\n",
       "      <td>0.999040</td>\n",
       "      <td>2.330134</td>\n",
       "    </tr>\n",
       "    <tr>\n",
       "      <th>4</th>\n",
       "      <td>0.998985</td>\n",
       "      <td>2.329949</td>\n",
       "    </tr>\n",
       "    <tr>\n",
       "      <th>5</th>\n",
       "      <td>0.998922</td>\n",
       "      <td>2.329742</td>\n",
       "    </tr>\n",
       "    <tr>\n",
       "      <th>6</th>\n",
       "      <td>0.998852</td>\n",
       "      <td>2.329508</td>\n",
       "    </tr>\n",
       "    <tr>\n",
       "      <th>7</th>\n",
       "      <td>0.998772</td>\n",
       "      <td>2.329242</td>\n",
       "    </tr>\n",
       "    <tr>\n",
       "      <th>8</th>\n",
       "      <td>0.998681</td>\n",
       "      <td>2.328937</td>\n",
       "    </tr>\n",
       "    <tr>\n",
       "      <th>9</th>\n",
       "      <td>0.998575</td>\n",
       "      <td>2.328584</td>\n",
       "    </tr>\n",
       "    <tr>\n",
       "      <th>10</th>\n",
       "      <td>0.998451</td>\n",
       "      <td>2.328171</td>\n",
       "    </tr>\n",
       "    <tr>\n",
       "      <th>11</th>\n",
       "      <td>0.998304</td>\n",
       "      <td>2.327681</td>\n",
       "    </tr>\n",
       "    <tr>\n",
       "      <th>12</th>\n",
       "      <td>0.998128</td>\n",
       "      <td>2.327092</td>\n",
       "    </tr>\n",
       "    <tr>\n",
       "      <th>13</th>\n",
       "      <td>0.997911</td>\n",
       "      <td>2.326371</td>\n",
       "    </tr>\n",
       "    <tr>\n",
       "      <th>14</th>\n",
       "      <td>0.997641</td>\n",
       "      <td>2.325468</td>\n",
       "    </tr>\n",
       "    <tr>\n",
       "      <th>15</th>\n",
       "      <td>0.997292</td>\n",
       "      <td>2.324308</td>\n",
       "    </tr>\n",
       "    <tr>\n",
       "      <th>16</th>\n",
       "      <td>0.996830</td>\n",
       "      <td>2.322767</td>\n",
       "    </tr>\n",
       "    <tr>\n",
       "      <th>17</th>\n",
       "      <td>0.996188</td>\n",
       "      <td>2.320628</td>\n",
       "    </tr>\n",
       "    <tr>\n",
       "      <th>18</th>\n",
       "      <td>0.995245</td>\n",
       "      <td>2.317484</td>\n",
       "    </tr>\n",
       "    <tr>\n",
       "      <th>19</th>\n",
       "      <td>0.993741</td>\n",
       "      <td>2.312471</td>\n",
       "    </tr>\n",
       "    <tr>\n",
       "      <th>20</th>\n",
       "      <td>0.991032</td>\n",
       "      <td>2.303439</td>\n",
       "    </tr>\n",
       "    <tr>\n",
       "      <th>21</th>\n",
       "      <td>0.985067</td>\n",
       "      <td>2.283556</td>\n",
       "    </tr>\n",
       "    <tr>\n",
       "      <th>22</th>\n",
       "      <td>0.965862</td>\n",
       "      <td>2.219540</td>\n",
       "    </tr>\n",
       "    <tr>\n",
       "      <th>23</th>\n",
       "      <td>0.817333</td>\n",
       "      <td>1.724442</td>\n",
       "    </tr>\n",
       "    <tr>\n",
       "      <th>24</th>\n",
       "      <td>0.006762</td>\n",
       "      <td>0.977459</td>\n",
       "    </tr>\n",
       "    <tr>\n",
       "      <th>25</th>\n",
       "      <td>0.007969</td>\n",
       "      <td>0.973435</td>\n",
       "    </tr>\n",
       "    <tr>\n",
       "      <th>26</th>\n",
       "      <td>0.009659</td>\n",
       "      <td>0.967805</td>\n",
       "    </tr>\n",
       "    <tr>\n",
       "      <th>27</th>\n",
       "      <td>0.012165</td>\n",
       "      <td>0.959449</td>\n",
       "    </tr>\n",
       "    <tr>\n",
       "      <th>28</th>\n",
       "      <td>0.016201</td>\n",
       "      <td>0.945998</td>\n",
       "    </tr>\n",
       "    <tr>\n",
       "      <th>29</th>\n",
       "      <td>0.023513</td>\n",
       "      <td>0.921624</td>\n",
       "    </tr>\n",
       "    <tr>\n",
       "      <th>30</th>\n",
       "      <td>0.039423</td>\n",
       "      <td>0.868589</td>\n",
       "    </tr>\n",
       "    <tr>\n",
       "      <th>31</th>\n",
       "      <td>0.085937</td>\n",
       "      <td>0.713543</td>\n",
       "    </tr>\n",
       "    <tr>\n",
       "      <th>32</th>\n",
       "      <td>0.278519</td>\n",
       "      <td>0.071604</td>\n",
       "    </tr>\n",
       "  </tbody>\n",
       "</table>\n",
       "</div>"
      ],
      "text/plain": [
       "     $$y_i$$  $$dn_i$$\n",
       "1   0.999135  2.330450\n",
       "2   0.999090  2.330300\n",
       "3   0.999040  2.330134\n",
       "4   0.998985  2.329949\n",
       "5   0.998922  2.329742\n",
       "6   0.998852  2.329508\n",
       "7   0.998772  2.329242\n",
       "8   0.998681  2.328937\n",
       "9   0.998575  2.328584\n",
       "10  0.998451  2.328171\n",
       "11  0.998304  2.327681\n",
       "12  0.998128  2.327092\n",
       "13  0.997911  2.326371\n",
       "14  0.997641  2.325468\n",
       "15  0.997292  2.324308\n",
       "16  0.996830  2.322767\n",
       "17  0.996188  2.320628\n",
       "18  0.995245  2.317484\n",
       "19  0.993741  2.312471\n",
       "20  0.991032  2.303439\n",
       "21  0.985067  2.283556\n",
       "22  0.965862  2.219540\n",
       "23  0.817333  1.724442\n",
       "24  0.006762  0.977459\n",
       "25  0.007969  0.973435\n",
       "26  0.009659  0.967805\n",
       "27  0.012165  0.959449\n",
       "28  0.016201  0.945998\n",
       "29  0.023513  0.921624\n",
       "30  0.039423  0.868589\n",
       "31  0.085937  0.713543\n",
       "32  0.278519  0.071604"
      ]
     },
     "metadata": {},
     "output_type": "display_data"
    },
    {
     "data": {
      "text/markdown": [
       "## Похибка навчання на кожній ітерації"
      ],
      "text/plain": [
       "<IPython.core.display.Markdown object>"
      ]
     },
     "metadata": {},
     "output_type": "display_data"
    },
    {
     "data": {
      "image/png": "[encoded data removed]",
      "text/plain": [
       "<Figure size 792x360 with 1 Axes>"
      ]
     },
     "metadata": {
      "needs_background": "light"
     },
     "output_type": "display_data"
    },
    {
     "data": {
      "text/markdown": [
       "## Режим розпізнавання"
      ],
      "text/plain": [
       "<IPython.core.display.Markdown object>"
      ]
     },
     "metadata": {},
     "output_type": "display_data"
    },
    {
     "data": {
      "text/markdown": [
       "Вхідні дані: [1, 7, 1, 2]"
      ],
      "text/plain": [
       "<IPython.core.display.Markdown object>"
      ]
     },
     "metadata": {},
     "output_type": "display_data"
    },
    {
     "data": {
      "text/markdown": [
       "Результат: 0.6489376764694618"
      ],
      "text/plain": [
       "<IPython.core.display.Markdown object>"
      ]
     },
     "metadata": {},
     "output_type": "display_data"
    }
   ],
   "source": [
    "single = Neuron(X, Y)\n",
    "single.train(dd)\n",
    "display(Markdown(\n",
    "    f\"Початкові випадково згенеровані ваги $$w_i = {np.array2string(single.start_weights, separator=', ')}$$\"\n",
    "))\n",
    "display(Markdown(\n",
    "    f\"Кінцеві ваги після навчання $$w_i = {np.array2string(single.weights, separator=', ')}$$\"\n",
    "))\n",
    "\n",
    "history = pd.DataFrame({\n",
    "    \"$$y_i$$\": single.epoch_history,\n",
    "    \"$$dn_i$$\": single.error_history,\n",
    "})\n",
    "history.index += 1\n",
    "display(Markdown(\"## Результати роботи програми на кожній ітерації\"))\n",
    "display(history)\n",
    "\n",
    "plt.figure(figsize=(11,5))\n",
    "plt.plot(history.index, history[\"$$dn_i$$\"])\n",
    "plt.xlabel('Epoch')\n",
    "plt.ylabel('Loss')\n",
    "display(Markdown(\"## Похибка навчання на кожній ітерації\"))\n",
    "plt.show()\n",
    "\n",
    "\n",
    "test_predict = [1, 7, 1, 2]\n",
    "probability = single.predict(test_predict)\n",
    "display(Markdown(\"## Режим розпізнавання\"))\n",
    "display(Markdown(f\"Вхідні дані: {test_predict}\"))\n",
    "display(Markdown(f\"Результат: {probability}\"))\n"
   ]
  }
 ],
 "metadata": {
  "kernelspec": {
   "display_name": "Python 3",
   "language": "python",
   "name": "python3"
  },
  "language_info": {
   "codemirror_mode": {
    "name": "ipython",
    "version": 3
   },
   "file_extension": ".py",
   "mimetype": "text/x-python",
   "name": "python",
   "nbconvert_exporter": "python",
   "pygments_lexer": "ipython3",
   "version": "3.7.6"
  }
 },
 "nbformat": 4,
 "nbformat_minor": 5
}
