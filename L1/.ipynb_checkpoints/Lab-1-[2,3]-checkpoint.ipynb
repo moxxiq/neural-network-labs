{
 "cells": [
  {
   "cell_type": "markdown",
   "metadata": {},
   "source": [
    "Реалізація нейронної мережі"
   ]
  },
  {
   "cell_type": "code",
   "execution_count": 1,
   "metadata": {},
   "outputs": [],
   "source": [
    "import numpy as np\n",
    "import pandas as pd\n",
    "import matplotlib.pyplot as plt\n",
    "plt.rcParams['figure.figsize'] = [10, 10]\n",
    "\n",
    "from IPython.display import display, Markdown, Math\n",
    "\n",
    "seed = 42"
   ]
  },
  {
   "cell_type": "code",
   "execution_count": 2,
   "metadata": {},
   "outputs": [],
   "source": [
    "class NeuralNetwork:\n",
    "    \"\"\"\n",
    "    N-layer neural network mathematic model with sigmoid activation function\n",
    "    \"\"\"\n",
    "\n",
    "    def __init__(self, npl, add_bias=True):\n",
    "        \"\"\"\n",
    "        Init starting values, first step\n",
    "        \n",
    "        Args:\n",
    "            npl: Neuron-per-Layer (i.e. 2-3-1 == [2, 3, 1])\n",
    "            add_bias: To add additional weight to itself on every neuron\n",
    "        \"\"\"\n",
    "        self._npl = npl\n",
    "        self.add_bias = add_bias\n",
    "        # First_neuron_number . depends on bias\n",
    "        self.one_or_zero = 1 if add_bias else 0\n",
    "        # Add bias neuron if it needed\n",
    "        self._inputs = []\n",
    "        self._result = []\n",
    "        \n",
    "        self.weights = []\n",
    "        for i in range(len(npl)-1):\n",
    "            w = np.random.default_rng(seed).uniform(\n",
    "                low=-1.0,\n",
    "                high=1.0,\n",
    "                size=(npl[i]+self.one_or_zero)*npl[i+1],\n",
    "            ).round(3).reshape((npl[i]+self.one_or_zero, npl[i+1]))\n",
    "            self.weights.append(w)\n",
    "            \n",
    "        self.neurons = []\n",
    "        for i in range(len(npl)):\n",
    "            self.neurons.append(\n",
    "                np.concatenate(([1], np.empty(npl[i])))\n",
    "                if self.add_bias else\n",
    "                np.empty(npl[i])\n",
    "            )\n",
    "        self.epoch_history = []  # same as y_i\n",
    "        self.error_history = []  # same as dn_i\n",
    "        \n",
    "\n",
    "    def sigm(self, x):\n",
    "        \"\"\"\n",
    "        Sigmoidal activation function\n",
    "        \"\"\"\n",
    "        return 1 / (1 + np.exp(-x))\n",
    "\n",
    "    def sigm_der(self, w):\n",
    "        \"\"\"\n",
    "        Args:\n",
    "            w: the previous output value of the neuron\n",
    "        \"\"\"\n",
    "        return w * (1 - w)\n",
    "\n",
    "    def _step_forward(self):\n",
    "        \"\"\"\n",
    "        Make one calculation forward through all NN\n",
    "        \"\"\"\n",
    "        for i in range(1, len(self._npl)):\n",
    "            self.neurons[i][self.one_or_zero:] = self.sigm(self.neurons[i-1] @ self.weights[i-1])\n",
    "            \n",
    "        self.epoch_history.append(self.neurons[-1][self.one_or_zero:])\n",
    "        self.error_history.append(\n",
    "            np.abs((self._result - self.epoch_history[-1]) / self._result)\n",
    "        )\n",
    "\n",
    "    def _back_propagate(self, learning_rate):\n",
    "        \"\"\"\n",
    "        Correct previous iteration\n",
    "        \"\"\"\n",
    "        l = learning_rate\n",
    "        last_delta_w = (self.neurons[-1][self.one_or_zero:] - self._result) * self.sigm_der(self.neurons[-1][self.one_or_zero:])\n",
    "        \n",
    "        for i in range(len(self._npl) - 2, -1, -1):\n",
    "            correction = np.transpose([self.neurons[i]]) @ ([last_delta_w]) * l\n",
    "            self.weights[i] -= correction\n",
    "            last_delta_w = (\n",
    "                (last_delta_w @ self.weights[i].T)\n",
    "                * self.sigm_der(self.neurons[i])\n",
    "            )[self.one_or_zero:]\n",
    "\n",
    "    def train(self, inputs, outputs, acceptable_error=0.01, learning_rate=0.1, max_epoch_iteration=5000):\n",
    "        \"\"\"\n",
    "        Train function\n",
    "        Make forward step and correct weights.\n",
    "        Loop that untill error will be small enough.\n",
    "        Limit maximum number of epochs.\n",
    "        \"\"\"\n",
    "        i = 1\n",
    "        inp_outps = list(zip(inputs, outputs))\n",
    "        enought = False\n",
    "        while (i < max_epoch_iteration) and (not enought):\n",
    "            for inp, outp in inp_outps:\n",
    "                self.neurons[0][self.one_or_zero:] = np.array(inp)\n",
    "                self._result = np.array(outp)\n",
    "                self._step_forward()\n",
    "                self._back_propagate(learning_rate)\n",
    "            \n",
    "            if self.error_history[-1] <= acceptable_error:\n",
    "                enought = True\n",
    "                break\n",
    "            i += 1\n",
    "            np.random.shuffle(inp_outps)\n",
    "        return i\n",
    "    \n",
    "    def predict(self, input_vector):\n",
    "        \"\"\"\n",
    "        Predict input vector with current weights\n",
    "        \"\"\"\n",
    "        self.neurons[0][self.one_or_zero:] = np.array(input_vector)\n",
    "        self._step_forward()\n",
    "        return self.neurons[-1][self.one_or_zero:]"
   ]
  },
  {
   "cell_type": "code",
   "execution_count": 38,
   "metadata": {},
   "outputs": [],
   "source": [
    "def visualize(NN, test_predict, inp_outps_count=1):\n",
    "    history = pd.DataFrame({\n",
    "        \"$$y_i$$\": NN.epoch_history[::inp_outps_count],\n",
    "        \"$$dn_i$$\": NN.error_history[::inp_outps_count],\n",
    "    })\n",
    "    history.index += 1\n",
    "    display(Markdown(\"## Результати роботи програми на кожній ітерації\"))\n",
    "    display(history)\n",
    "\n",
    "    plt.figure(figsize=(11,5))\n",
    "    plt.plot(history.index, history[\"$$dn_i$$\"])\n",
    "    plt.xlabel('Epoch')\n",
    "    plt.ylabel('Loss')\n",
    "    display(Markdown(\"## Похибка навчання на кожній ітерації\"))\n",
    "    plt.show()\n",
    "\n",
    "    probability = NN.predict(test_predict)[0]\n",
    "    display(Markdown(\"## Режим розпізнавання\"))\n",
    "    display(Markdown(f\"Вхідні дані: {test_predict}\"))\n",
    "    display(Markdown(f\"Результат: {probability}\"))"
   ]
  },
  {
   "cell_type": "markdown",
   "metadata": {},
   "source": [
    "_Частина 2_\n",
    "\n",
    "Завдання: розробити програмне забезпечення для реалізації елементарного\n",
    "двошарового персептрону із структурою 1-1-1.\n",
    "\n",
    "Передбачити режим навчання\n",
    "на одному навчальному прикладі та режим розпізнавання.\n"
   ]
  },
  {
   "cell_type": "code",
   "execution_count": 29,
   "metadata": {},
   "outputs": [],
   "source": [
    "perceptron2 = NeuralNetwork([1, 1, 1], add_bias=False)"
   ]
  },
  {
   "cell_type": "markdown",
   "metadata": {},
   "source": [
    "Навчальні приклади"
   ]
  },
  {
   "cell_type": "code",
   "execution_count": 30,
   "metadata": {},
   "outputs": [],
   "source": [
    "inputs, outputs = [[2]], [[0.5]]"
   ]
  },
  {
   "cell_type": "markdown",
   "metadata": {},
   "source": [
    "Навчання"
   ]
  },
  {
   "cell_type": "code",
   "execution_count": 31,
   "metadata": {},
   "outputs": [
    {
     "name": "stdout",
     "output_type": "stream",
     "text": [
      "Epoch number 22\n",
      "Final error [0.09837481]\n"
     ]
    }
   ],
   "source": [
    "epoch_number = perceptron2.train(inputs, outputs, acceptable_error=0.1, learning_rate=1, max_epoch_iteration=1000)\n",
    "print(\"Epoch number\", epoch_number)\n",
    "print(\"Final error\", perceptron2.error_history[-1])"
   ]
  },
  {
   "cell_type": "code",
   "execution_count": 32,
   "metadata": {},
   "outputs": [
    {
     "data": {
      "text/markdown": [
       "## Результати роботи програми на кожній ітерації"
      ],
      "text/plain": [
       "<IPython.core.display.Markdown object>"
      ]
     },
     "metadata": {},
     "output_type": "display_data"
    },
    {
     "data": {
      "text/html": [
       "<div>\n",
       "<style scoped>\n",
       "    .dataframe tbody tr th:only-of-type {\n",
       "        vertical-align: middle;\n",
       "    }\n",
       "\n",
       "    .dataframe tbody tr th {\n",
       "        vertical-align: top;\n",
       "    }\n",
       "\n",
       "    .dataframe thead th {\n",
       "        text-align: right;\n",
       "    }\n",
       "</style>\n",
       "<table border=\"1\" class=\"dataframe\">\n",
       "  <thead>\n",
       "    <tr style=\"text-align: right;\">\n",
       "      <th></th>\n",
       "      <th>$$y_i$$</th>\n",
       "      <th>$$dn_i$$</th>\n",
       "    </tr>\n",
       "  </thead>\n",
       "  <tbody>\n",
       "    <tr>\n",
       "      <th>1</th>\n",
       "      <td>[0.5491874071585257]</td>\n",
       "      <td>[0.20252648954346442]</td>\n",
       "    </tr>\n",
       "    <tr>\n",
       "      <th>2</th>\n",
       "      <td>[0.5491874071585257]</td>\n",
       "      <td>[0.19551503908246826]</td>\n",
       "    </tr>\n",
       "    <tr>\n",
       "      <th>3</th>\n",
       "      <td>[0.5491874071585257]</td>\n",
       "      <td>[0.18876371496398003]</td>\n",
       "    </tr>\n",
       "    <tr>\n",
       "      <th>4</th>\n",
       "      <td>[0.5491874071585257]</td>\n",
       "      <td>[0.18226253845539464]</td>\n",
       "    </tr>\n",
       "    <tr>\n",
       "      <th>5</th>\n",
       "      <td>[0.5491874071585257]</td>\n",
       "      <td>[0.17600176294364878]</td>\n",
       "    </tr>\n",
       "    <tr>\n",
       "      <th>6</th>\n",
       "      <td>[0.5491874071585257]</td>\n",
       "      <td>[0.1699719096024208]</td>\n",
       "    </tr>\n",
       "    <tr>\n",
       "      <th>7</th>\n",
       "      <td>[0.5491874071585257]</td>\n",
       "      <td>[0.16416379316254948]</td>\n",
       "    </tr>\n",
       "    <tr>\n",
       "      <th>8</th>\n",
       "      <td>[0.5491874071585257]</td>\n",
       "      <td>[0.1585685394556935]</td>\n",
       "    </tr>\n",
       "    <tr>\n",
       "      <th>9</th>\n",
       "      <td>[0.5491874071585257]</td>\n",
       "      <td>[0.15317759619206184]</td>\n",
       "    </tr>\n",
       "    <tr>\n",
       "      <th>10</th>\n",
       "      <td>[0.5491874071585257]</td>\n",
       "      <td>[0.14798273823601993]</td>\n",
       "    </tr>\n",
       "    <tr>\n",
       "      <th>11</th>\n",
       "      <td>[0.5491874071585257]</td>\n",
       "      <td>[0.1429760684622179]</td>\n",
       "    </tr>\n",
       "    <tr>\n",
       "      <th>12</th>\n",
       "      <td>[0.5491874071585257]</td>\n",
       "      <td>[0.13815001511140346]</td>\n",
       "    </tr>\n",
       "    <tr>\n",
       "      <th>13</th>\n",
       "      <td>[0.5491874071585257]</td>\n",
       "      <td>[0.1334973264197863]</td>\n",
       "    </tr>\n",
       "    <tr>\n",
       "      <th>14</th>\n",
       "      <td>[0.5491874071585257]</td>\n",
       "      <td>[0.12901106316829436]</td>\n",
       "    </tr>\n",
       "    <tr>\n",
       "      <th>15</th>\n",
       "      <td>[0.5491874071585257]</td>\n",
       "      <td>[0.12468458968729879]</td>\n",
       "    </tr>\n",
       "    <tr>\n",
       "      <th>16</th>\n",
       "      <td>[0.5491874071585257]</td>\n",
       "      <td>[0.1205115637570815]</td>\n",
       "    </tr>\n",
       "    <tr>\n",
       "      <th>17</th>\n",
       "      <td>[0.5491874071585257]</td>\n",
       "      <td>[0.11648592576295558]</td>\n",
       "    </tr>\n",
       "    <tr>\n",
       "      <th>18</th>\n",
       "      <td>[0.5491874071585257]</td>\n",
       "      <td>[0.11260188739501342]</td>\n",
       "    </tr>\n",
       "    <tr>\n",
       "      <th>19</th>\n",
       "      <td>[0.5491874071585257]</td>\n",
       "      <td>[0.10885392012443362]</td>\n",
       "    </tr>\n",
       "    <tr>\n",
       "      <th>20</th>\n",
       "      <td>[0.5491874071585257]</td>\n",
       "      <td>[0.10523674363974411]</td>\n",
       "    </tr>\n",
       "    <tr>\n",
       "      <th>21</th>\n",
       "      <td>[0.5491874071585257]</td>\n",
       "      <td>[0.10174531438606915]</td>\n",
       "    </tr>\n",
       "    <tr>\n",
       "      <th>22</th>\n",
       "      <td>[0.5491874071585257]</td>\n",
       "      <td>[0.0983748143170513]</td>\n",
       "    </tr>\n",
       "  </tbody>\n",
       "</table>\n",
       "</div>"
      ],
      "text/plain": [
       "                 $$y_i$$               $$dn_i$$\n",
       "1   [0.5491874071585257]  [0.20252648954346442]\n",
       "2   [0.5491874071585257]  [0.19551503908246826]\n",
       "3   [0.5491874071585257]  [0.18876371496398003]\n",
       "4   [0.5491874071585257]  [0.18226253845539464]\n",
       "5   [0.5491874071585257]  [0.17600176294364878]\n",
       "6   [0.5491874071585257]   [0.1699719096024208]\n",
       "7   [0.5491874071585257]  [0.16416379316254948]\n",
       "8   [0.5491874071585257]   [0.1585685394556935]\n",
       "9   [0.5491874071585257]  [0.15317759619206184]\n",
       "10  [0.5491874071585257]  [0.14798273823601993]\n",
       "11  [0.5491874071585257]   [0.1429760684622179]\n",
       "12  [0.5491874071585257]  [0.13815001511140346]\n",
       "13  [0.5491874071585257]   [0.1334973264197863]\n",
       "14  [0.5491874071585257]  [0.12901106316829436]\n",
       "15  [0.5491874071585257]  [0.12468458968729879]\n",
       "16  [0.5491874071585257]   [0.1205115637570815]\n",
       "17  [0.5491874071585257]  [0.11648592576295558]\n",
       "18  [0.5491874071585257]  [0.11260188739501342]\n",
       "19  [0.5491874071585257]  [0.10885392012443362]\n",
       "20  [0.5491874071585257]  [0.10523674363974411]\n",
       "21  [0.5491874071585257]  [0.10174531438606915]\n",
       "22  [0.5491874071585257]   [0.0983748143170513]"
      ]
     },
     "metadata": {},
     "output_type": "display_data"
    },
    {
     "data": {
      "text/markdown": [
       "## Похибка навчання на кожній ітерації"
      ],
      "text/plain": [
       "<IPython.core.display.Markdown object>"
      ]
     },
     "metadata": {},
     "output_type": "display_data"
    },
    {
     "data": {
      "image/png": "[encoded data removed]",
      "text/plain": [
       "<Figure size 792x360 with 1 Axes>"
      ]
     },
     "metadata": {
      "needs_background": "light"
     },
     "output_type": "display_data"
    },
    {
     "data": {
      "text/markdown": [
       "## Режим розпізнавання"
      ],
      "text/plain": [
       "<IPython.core.display.Markdown object>"
      ]
     },
     "metadata": {},
     "output_type": "display_data"
    },
    {
     "data": {
      "text/markdown": [
       "Вхідні дані: [2]"
      ],
      "text/plain": [
       "<IPython.core.display.Markdown object>"
      ]
     },
     "metadata": {},
     "output_type": "display_data"
    },
    {
     "data": {
      "text/markdown": [
       "Результат: 0.5475603199708622"
      ],
      "text/plain": [
       "<IPython.core.display.Markdown object>"
      ]
     },
     "metadata": {},
     "output_type": "display_data"
    }
   ],
   "source": [
    "visualize(perceptron2, [2])"
   ]
  },
  {
   "cell_type": "markdown",
   "metadata": {},
   "source": [
    "_Частина 3_\n",
    "\n",
    "Завдання: розробити програмне забезпечення для реалізації двошарового персептрону із структурою 2-3-1.\n",
    "\n",
    "Передбачити режим навчання «ON-LINE» та режим розпізнавання.\n",
    "\n",
    "Піддослідна функція $х_1+х_2=у$"
   ]
  },
  {
   "cell_type": "markdown",
   "metadata": {},
   "source": [
    "Generate train data"
   ]
  },
  {
   "cell_type": "code",
   "execution_count": 33,
   "metadata": {},
   "outputs": [
    {
     "name": "stdout",
     "output_type": "stream",
     "text": [
      "([0.702, 0.288], [0.99])\n",
      "([0.001, 0.902], [0.903])\n",
      "([0.465, -0.029], [0.436])\n",
      "([0.115, -0.015], [0.1])\n",
      "([0.879, -0.859], [0.02])\n",
      "([0.091, 0.201], [0.292])\n",
      "([0.274, -0.248], [0.026])\n",
      "([0.403, 0.537], [0.94])\n",
      "([0.966, -0.422], [0.544])\n",
      "([0.676, -0.487], [0.189])\n",
      "([0.964, -0.945], [0.019])\n",
      "([0.361, 0.422], [0.783])\n",
      "([0.398, -0.204], [0.194])\n",
      "([0.003, 0.241], [0.244])\n",
      "([0.248, 0.172], [0.42])\n",
      "([0.295, 0.641], [0.936])\n",
      "([0.326, 0.219], [0.545])\n",
      "([0.341, 0.622], [0.963])\n",
      "([0.393, -0.359], [0.034])\n",
      "([0.912, -0.661], [0.251])\n",
      "([0.014, 0.024], [0.038])\n",
      "([0.312, 0.126], [0.438])\n",
      "([0.121, 0.146], [0.267])\n",
      "([0.02, 0.522], [0.542])\n",
      "([0.932, -0.878], [0.054])\n",
      "([0.139, 0.841], [0.98])\n",
      "([0.552, -0.081], [0.471])\n",
      "([0.904, -0.008], [0.896])\n",
      "([0.638, -0.198], [0.44])\n",
      "([0.11, 0.629], [0.739])\n",
      "([0.535, -0.15], [0.385])\n",
      "([0.362, -0.081], [0.281])\n",
      "([0.035, 0.582], [0.617])\n",
      "([0.921, 0.075], [0.996])\n",
      "([0.731, -0.555], [0.176])\n",
      "([0.652, -0.203], [0.449])\n",
      "([0.536, -0.139], [0.397])\n",
      "([0.873, 0.024], [0.897])\n",
      "([0.705, -0.381], [0.324])\n",
      "([0.785, -0.582], [0.203])\n",
      "([0.557, 0.126], [0.683])\n",
      "([0.15, 0.411], [0.561])\n",
      "([0.849, -0.35], [0.499])\n",
      "([0.7, -0.186], [0.514])\n",
      "([0.465, -0.089], [0.376])\n",
      "([0.11, 0.329], [0.439])\n",
      "([0.174, 0.229], [0.403])\n",
      "([0.103, 0.418], [0.521])\n",
      "([0.711, -0.276], [0.435])\n",
      "([0.435, -0.216], [0.219])\n",
      "([0.721, 0.172], [0.893])\n",
      "([0.903, -0.256], [0.647])\n",
      "([0.563, -0.468], [0.095])\n",
      "([0.502, 0.136], [0.638])\n",
      "([0.545, 0.216], [0.761])\n",
      "([0.597, -0.538], [0.059])\n",
      "([0.315, 0.002], [0.317])\n",
      "([0.516, 0.263], [0.779])\n",
      "([0.477, 0.099], [0.576])\n",
      "([0.627, -0.558], [0.069])\n",
      "([0.822, -0.033], [0.789])\n",
      "([0.154, 0.843], [0.997])\n",
      "([0.21, -0.098], [0.112])\n",
      "([0.505, -0.298], [0.207])\n",
      "([0.832, -0.368], [0.464])\n",
      "([0.691, -0.26], [0.431])\n",
      "([0.05, 0.561], [0.611])\n",
      "([0.385, -0.162], [0.223])\n",
      "([0.902, -0.26], [0.642])\n",
      "([0.278, -0.048], [0.23])\n",
      "([0.594, 0.305], [0.899])\n",
      "([0.618, -0.482], [0.136])\n",
      "([0.421, 0.124], [0.545])\n",
      "([0.339, 0.275], [0.614])\n",
      "([0.422, -0.3], [0.122])\n",
      "([0.687, -0.668], [0.019])\n",
      "([0.163, 0.398], [0.561])\n",
      "([0.537, -0.055], [0.482])\n",
      "([0.233, 0.372], [0.605])\n",
      "([0.039, 0.358], [0.397])\n",
      "([0.951, -0.319], [0.632])\n",
      "([0.616, -0.301], [0.315])\n",
      "([0.476, 0.036], [0.512])\n",
      "([0.696, -0.378], [0.318])\n",
      "([0.306, -0.256], [0.05])\n",
      "([0.948, -0.061], [0.887])\n",
      "([0.842, -0.802], [0.04])\n",
      "([0.344, -0.32], [0.024])\n",
      "([0.552, -0.458], [0.094])\n",
      "([0.128, 0.483], [0.611])\n",
      "([0.733, -0.33], [0.403])\n",
      "([0.035, 0.238], [0.273])\n",
      "([0.384, 0.49], [0.874])\n",
      "([0.439, 0.335], [0.774])\n",
      "([0.916, -0.697], [0.219])\n",
      "([0.881, -0.309], [0.572])\n",
      "([0.375, -0.272], [0.103])\n",
      "([0.532, 0.236], [0.768])\n",
      "([0.331, 0.362], [0.693])\n",
      "([0.306, -0.303], [0.003])\n"
     ]
    }
   ],
   "source": [
    "def gen_train(number):\n",
    "    for i in range(number):\n",
    "        x1 = round(np.random.default_rng().uniform(low=0.0, high=1.0), 3)\n",
    "        y = round(np.random.default_rng().uniform(low=0, high=1.0), 3)\n",
    "        x2 = round(y-x1, 3)\n",
    "        yield [x1, x2], y\n",
    "    \n",
    "inputs, outputs = [], []\n",
    "for i, j in gen_train(100):\n",
    "    inputs.append(i)\n",
    "    outputs.append([j])\n",
    "    \n",
    "print(*list(zip(inputs, outputs)), sep='\\n')"
   ]
  },
  {
   "cell_type": "markdown",
   "metadata": {},
   "source": [
    "Train process. Create NN"
   ]
  },
  {
   "cell_type": "code",
   "execution_count": 39,
   "metadata": {},
   "outputs": [
    {
     "name": "stdout",
     "output_type": "stream",
     "text": [
      "Epoch number 18\n",
      "Final error [0.00348364]\n"
     ]
    }
   ],
   "source": [
    "perceptron3 = NeuralNetwork([2, 3, 1], add_bias=True)\n",
    "\n",
    "epoch_number = perceptron3.train(inputs, outputs, acceptable_error=0.01, learning_rate=1, max_epoch_iteration=10000)\n",
    "print(\"Epoch number\", epoch_number)\n",
    "print(\"Final error\", perceptron3.error_history[-1])"
   ]
  },
  {
   "cell_type": "markdown",
   "metadata": {},
   "source": [
    "Predict"
   ]
  },
  {
   "cell_type": "code",
   "execution_count": 44,
   "metadata": {},
   "outputs": [
    {
     "data": {
      "text/markdown": [
       "## Результати роботи програми на кожній ітерації"
      ],
      "text/plain": [
       "<IPython.core.display.Markdown object>"
      ]
     },
     "metadata": {},
     "output_type": "display_data"
    },
    {
     "data": {
      "text/html": [
       "<div>\n",
       "<style scoped>\n",
       "    .dataframe tbody tr th:only-of-type {\n",
       "        vertical-align: middle;\n",
       "    }\n",
       "\n",
       "    .dataframe tbody tr th {\n",
       "        vertical-align: top;\n",
       "    }\n",
       "\n",
       "    .dataframe thead th {\n",
       "        text-align: right;\n",
       "    }\n",
       "</style>\n",
       "<table border=\"1\" class=\"dataframe\">\n",
       "  <thead>\n",
       "    <tr style=\"text-align: right;\">\n",
       "      <th></th>\n",
       "      <th>$$y_i$$</th>\n",
       "      <th>$$dn_i$$</th>\n",
       "    </tr>\n",
       "  </thead>\n",
       "  <tbody>\n",
       "    <tr>\n",
       "      <th>1</th>\n",
       "      <td>[0.1167783191086786]</td>\n",
       "      <td>[0.25623254824718145]</td>\n",
       "    </tr>\n",
       "    <tr>\n",
       "      <th>2</th>\n",
       "      <td>[0.1167783191086786]</td>\n",
       "      <td>[0.14957952005596062]</td>\n",
       "    </tr>\n",
       "    <tr>\n",
       "      <th>3</th>\n",
       "      <td>[0.1167783191086786]</td>\n",
       "      <td>[0.7623533924893681]</td>\n",
       "    </tr>\n",
       "    <tr>\n",
       "      <th>4</th>\n",
       "      <td>[0.1167783191086786]</td>\n",
       "      <td>[6.493833598139234]</td>\n",
       "    </tr>\n",
       "    <tr>\n",
       "      <th>5</th>\n",
       "      <td>[0.1167783191086786]</td>\n",
       "      <td>[32.92687419626421]</td>\n",
       "    </tr>\n",
       "    <tr>\n",
       "      <th>...</th>\n",
       "      <td>...</td>\n",
       "      <td>...</td>\n",
       "    </tr>\n",
       "    <tr>\n",
       "      <th>1799</th>\n",
       "      <td>[0.1167783191086786]</td>\n",
       "      <td>[0.06264724253471692]</td>\n",
       "    </tr>\n",
       "    <tr>\n",
       "      <th>1800</th>\n",
       "      <td>[0.1167783191086786]</td>\n",
       "      <td>[0.003483636721281951]</td>\n",
       "    </tr>\n",
       "    <tr>\n",
       "      <th>1801</th>\n",
       "      <td>[0.1167783191086786]</td>\n",
       "      <td>[0.7058480626985426]</td>\n",
       "    </tr>\n",
       "    <tr>\n",
       "      <th>1802</th>\n",
       "      <td>[0.1167783191086786]</td>\n",
       "      <td>[0.7058480626985426]</td>\n",
       "    </tr>\n",
       "    <tr>\n",
       "      <th>1803</th>\n",
       "      <td>[0.1167783191086786]</td>\n",
       "      <td>[0.7058480626985426]</td>\n",
       "    </tr>\n",
       "  </tbody>\n",
       "</table>\n",
       "<p>1803 rows × 2 columns</p>\n",
       "</div>"
      ],
      "text/plain": [
       "                   $$y_i$$                $$dn_i$$\n",
       "1     [0.1167783191086786]   [0.25623254824718145]\n",
       "2     [0.1167783191086786]   [0.14957952005596062]\n",
       "3     [0.1167783191086786]    [0.7623533924893681]\n",
       "4     [0.1167783191086786]     [6.493833598139234]\n",
       "5     [0.1167783191086786]     [32.92687419626421]\n",
       "...                    ...                     ...\n",
       "1799  [0.1167783191086786]   [0.06264724253471692]\n",
       "1800  [0.1167783191086786]  [0.003483636721281951]\n",
       "1801  [0.1167783191086786]    [0.7058480626985426]\n",
       "1802  [0.1167783191086786]    [0.7058480626985426]\n",
       "1803  [0.1167783191086786]    [0.7058480626985426]\n",
       "\n",
       "[1803 rows x 2 columns]"
      ]
     },
     "metadata": {},
     "output_type": "display_data"
    },
    {
     "data": {
      "text/markdown": [
       "## Похибка навчання на кожній ітерації"
      ],
      "text/plain": [
       "<IPython.core.display.Markdown object>"
      ]
     },
     "metadata": {},
     "output_type": "display_data"
    },
    {
     "data": {
      "image/png": "[encoded data removed]",
      "text/plain": [
       "<Figure size 792x360 with 1 Axes>"
      ]
     },
     "metadata": {
      "needs_background": "light"
     },
     "output_type": "display_data"
    },
    {
     "data": {
      "text/markdown": [
       "## Режим розпізнавання"
      ],
      "text/plain": [
       "<IPython.core.display.Markdown object>"
      ]
     },
     "metadata": {},
     "output_type": "display_data"
    },
    {
     "data": {
      "text/markdown": [
       "Вхідні дані: [0.274, -0.248]"
      ],
      "text/plain": [
       "<IPython.core.display.Markdown object>"
      ]
     },
     "metadata": {},
     "output_type": "display_data"
    },
    {
     "data": {
      "text/markdown": [
       "Результат: 0.1167783191086786"
      ],
      "text/plain": [
       "<IPython.core.display.Markdown object>"
      ]
     },
     "metadata": {},
     "output_type": "display_data"
    }
   ],
   "source": [
    "visualize(perceptron3, inputs[6])"
   ]
  },
  {
   "cell_type": "markdown",
   "metadata": {},
   "source": [
    "Visualise output"
   ]
  },
  {
   "cell_type": "code",
   "execution_count": 45,
   "metadata": {},
   "outputs": [
    {
     "data": {
      "image/png": "[encoded data removed]",
      "text/plain": [
       "<Figure size 720x720 with 1 Axes>"
      ]
     },
     "metadata": {
      "needs_background": "light"
     },
     "output_type": "display_data"
    }
   ],
   "source": [
    "x1 = np.linspace(-1, 1, 100)\n",
    "x2 = np.linspace(-1, 1, 100)\n",
    "xx1, xx2 = np.meshgrid(x1, x2, sparse=False)\n",
    "yy = np.empty(xx1.shape)\n",
    "for i in range(xx1.shape[0]):\n",
    "    for j in range(xx1.shape[1]):\n",
    "        yy[i][j] = perceptron3.predict([xx1[i][j], xx2[i][j]])\n",
    "        \n",
    "# clev = np.arange(0, 1,.001)\n",
    "clev = np.arange(yy.min(),yy.max(),.001)\n",
    "h = plt.contourf(xx1, xx2, yy, clev, cmap='PRGn')\n",
    "plt.axis('scaled')\n",
    "plt.show()"
   ]
  }
 ],
 "metadata": {
  "kernelspec": {
   "display_name": "Python 3 (ipykernel)",
   "language": "python",
   "name": "python3"
  },
  "language_info": {
   "codemirror_mode": {
    "name": "ipython",
    "version": 3
   },
   "file_extension": ".py",
   "mimetype": "text/x-python",
   "name": "python",
   "nbconvert_exporter": "python",
   "pygments_lexer": "ipython3",
   "version": "3.10.1"
  }
 },
 "nbformat": 4,
 "nbformat_minor": 4
}
