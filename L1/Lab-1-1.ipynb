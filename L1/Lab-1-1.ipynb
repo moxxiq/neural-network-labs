{
 "cells": [
  {
   "cell_type": "code",
   "execution_count": 82,
   "id": "cbc904df",
   "metadata": {},
   "outputs": [],
   "source": [
    "import numpy as np\n",
    "import pandas as pd\n",
    "\n",
    "from IPython.display import display, Markdown, Math\n",
    "\n",
    "seed = 42"
   ]
  },
  {
   "cell_type": "markdown",
   "id": "9d7070ac",
   "metadata": {},
   "source": [
    "_Частина 1_\n",
    "\n",
    "Завдання: розробити програмне забезпечення для реалізації класичного нейрону.\n",
    "\n",
    "Передбачити режим навчання класичного нейрону на одному навчальному прикладі та режим розпізнавання."
   ]
  },
  {
   "cell_type": "code",
   "execution_count": 83,
   "id": "1e18ba7c",
   "metadata": {},
   "outputs": [],
   "source": [
    "X = np.array(\n",
    "    [1, 3, 5, 7]\n",
    ")\n",
    "Y = np.array(\n",
    "    0.3\n",
    ")\n",
    "dd = 0.1 # acceptable error"
   ]
  },
  {
   "cell_type": "code",
   "execution_count": 99,
   "id": "d0d0b91c",
   "metadata": {},
   "outputs": [],
   "source": [
    "class Neuron:\n",
    "    \"\"\"\n",
    "    Neural neuron mathematic model with sigmoid activation function\n",
    "    \"\"\"\n",
    "\n",
    "    def __init__(self, start_vector, result):\n",
    "        \"\"\"\n",
    "        Init starting values, first step\n",
    "        \"\"\"\n",
    "        self._inputs = np.array(start_vector)\n",
    "        self._result = result\n",
    "        self.start_weights = np.random.default_rng(seed).uniform(\n",
    "            low=0.3,\n",
    "            high=0.5,\n",
    "            size=self._inputs.size,\n",
    "        ).round(3)\n",
    "        self.weights = self.start_weights.copy()\n",
    "        print(f\"{self.weights = }\")\n",
    "        self.epoch_history = []  # same as y_i\n",
    "        self.error_history = []  # same as dn_i\n",
    "        self._step_forward()\n",
    "        \n",
    "\n",
    "    def sigm(self, x):\n",
    "        \"\"\"\n",
    "        Sigmoidal activation function\n",
    "        \"\"\"\n",
    "        return 1 / (1 + np.exp(-x))\n",
    "\n",
    "    def sigm_der(self, w):\n",
    "        \"\"\"\n",
    "        Args:\n",
    "            w: the previous output value of the neuron\n",
    "        \"\"\"\n",
    "        return w * (1 - w)\n",
    "\n",
    "    def _step_forward(self):\n",
    "        \"\"\"\n",
    "        Make one calculation forward\n",
    "        \"\"\"\n",
    "        self.epoch_history.append(\n",
    "            self.sigm(np.dot(self._inputs, self.weights)))\n",
    "        self.error_history.append(\n",
    "            np.abs((self._result - self.epoch_history[-1]) / self._result)\n",
    "        )\n",
    "\n",
    "    def _back_propagate(self):\n",
    "        \"\"\"\n",
    "        Correct previous iteration\n",
    "        \"\"\"\n",
    "        delta_w = (self._result - self.epoch_history[-1]) * self.sigm_der(self.epoch_history[-1])\n",
    "        correction = np.dot(self._inputs.T, delta_w)\n",
    "        self.weights += correction\n",
    "\n",
    "    def train(self, acceptable_error=0.01, max_epoch_iteration=50000):\n",
    "        \"\"\"\n",
    "        Train function\n",
    "        Make forward step and correct weights.\n",
    "        Loop that untill error will be small enough.\n",
    "        Limit maximum number of epochs.\n",
    "        \"\"\"\n",
    "        i = 1\n",
    "        while (self.error_history[-1] > acceptable_error) and i < max_epoch_iteration:\n",
    "            self._back_propagate()\n",
    "            self._step_forward()\n",
    "            i += 1\n",
    "    \n",
    "    def predict(self, input_vector):\n",
    "        \"\"\"\n",
    "        Predict input vector with current weights\n",
    "        \"\"\"\n",
    "        return self.sigm(np.dot(input_vector, self.weights))"
   ]
  },
  {
   "cell_type": "code",
   "execution_count": 100,
   "id": "4eaa66e8",
   "metadata": {},
   "outputs": [
    {
     "name": "stdout",
     "output_type": "stream",
     "text": [
      "self.weights = array([0.455, 0.388, 0.472, 0.439])\n"
     ]
    },
    {
     "data": {
      "text/markdown": [
       "Кінцеві ваги після навчання $$w_i = [ 0.35971641,  0.10214924, -0.00441794, -0.22798511]$$"
      ],
      "text/plain": [
       "<IPython.core.display.Markdown object>"
      ]
     },
     "metadata": {},
     "output_type": "display_data"
    },
    {
     "data": {
      "text/plain": [
       "array([0.455, 0.388, 0.472, 0.439])"
      ]
     },
     "execution_count": 100,
     "metadata": {},
     "output_type": "execute_result"
    }
   ],
   "source": [
    "single = Neuron(X, Y)\n",
    "single.train(dd)\n",
    "display(Markdown(\n",
    "    f\"Кінцеві ваги після навчання $$w_i = {np.array2string(single.weights, separator=', ')}$$\"\n",
    "))\n",
    "single.start_weights"
   ]
  },
  {
   "cell_type": "code",
   "execution_count": null,
   "id": "d3df9f91",
   "metadata": {},
   "outputs": [],
   "source": []
  }
 ],
 "metadata": {
  "kernelspec": {
   "display_name": "Python 3 (ipykernel)",
   "language": "python",
   "name": "python3"
  },
  "language_info": {
   "codemirror_mode": {
    "name": "ipython",
    "version": 3
   },
   "file_extension": ".py",
   "mimetype": "text/x-python",
   "name": "python",
   "nbconvert_exporter": "python",
   "pygments_lexer": "ipython3",
   "version": "3.9.7"
  }
 },
 "nbformat": 4,
 "nbformat_minor": 5
}
