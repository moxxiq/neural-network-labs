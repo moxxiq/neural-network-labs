{
 "cells": [
  {
   "cell_type": "markdown",
   "metadata": {},
   "source": [
    "Реалізація нейронної мережі"
   ]
  },
  {
   "cell_type": "code",
   "execution_count": 46,
   "metadata": {},
   "outputs": [],
   "source": [
    "import numpy as np\n",
    "import pandas as pd\n",
    "import matplotlib.pyplot as plt\n",
    "plt.rcParams['figure.figsize'] = [10, 10]\n",
    "\n",
    "from IPython.display import display, Markdown, Math\n",
    "\n",
    "seed = 42"
   ]
  },
  {
   "cell_type": "code",
   "execution_count": 47,
   "metadata": {},
   "outputs": [
    {
     "ename": "IndentationError",
     "evalue": "unexpected indent (3820944900.py, line 75)",
     "output_type": "error",
     "traceback": [
      "\u001b[0;36m  File \u001b[0;32m\"/tmp/ipykernel_58697/3820944900.py\"\u001b[0;36m, line \u001b[0;32m75\u001b[0m\n\u001b[0;31m    * self.sigm_der(self.neurons[-1][self.one_or_zero:])\u001b[0m\n\u001b[0m    ^\u001b[0m\n\u001b[0;31mIndentationError\u001b[0m\u001b[0;31m:\u001b[0m unexpected indent\n"
     ]
    }
   ],
   "source": [
    "class NeuralNetwork:\n",
    "    \"\"\"\n",
    "    N-layer neural network mathematic model with sigmoid activation function\n",
    "    \"\"\"\n",
    "\n",
    "    def __init__(self, npl, add_bias=True):\n",
    "        \"\"\"\n",
    "        Init starting values, first step\n",
    "        \n",
    "        Args:\n",
    "            npl: Neuron-per-Layer (i.e. 2-3-1 == [2, 3, 1])\n",
    "            add_bias: To add additional weight to itself on every neuron\n",
    "        \"\"\"\n",
    "        self._npl = npl\n",
    "        self.add_bias = add_bias\n",
    "        # First_neuron_number . depends on bias\n",
    "        self.one_or_zero = 1 if add_bias else 0\n",
    "        # Add bias neuron if it needed\n",
    "        self._inputs = []\n",
    "        self._result = []\n",
    "        \n",
    "        self.weights = []\n",
    "        for i in range(len(npl)-1):\n",
    "            w = np.random.default_rng(seed).uniform(\n",
    "                low=-1.0,\n",
    "                high=1.0,\n",
    "                size=(npl[i]+self.one_or_zero)*npl[i+1],\n",
    "            ).round(3).reshape((npl[i]+self.one_or_zero, npl[i+1]))\n",
    "            self.weights.append(w)\n",
    "            \n",
    "        self.neurons = []\n",
    "        for i in range(len(npl)):\n",
    "            self.neurons.append(\n",
    "                np.concatenate(([1], np.empty(npl[i])))\n",
    "                if self.add_bias else\n",
    "                np.empty(npl[i])\n",
    "            )\n",
    "        self.epoch_history = []  # same as y_i\n",
    "        self.error_history = []  # same as dn_i\n",
    "        \n",
    "\n",
    "    def sigm(self, x):\n",
    "        \"\"\"\n",
    "        Sigmoidal activation function\n",
    "        \"\"\"\n",
    "        return 1 / (1 + np.exp(-x))\n",
    "\n",
    "    def sigm_der(self, w):\n",
    "        \"\"\"\n",
    "        Args:\n",
    "            w: the previous output value of the neuron\n",
    "        \"\"\"\n",
    "        return w * (1 - w)\n",
    "\n",
    "    def _step_forward(self):\n",
    "        \"\"\"\n",
    "        Make one calculation forward through all NN\n",
    "        \"\"\"\n",
    "        for i in range(1, len(self._npl)):\n",
    "            self.neurons[i][self.one_or_zero:] = self.sigm(\n",
    "                self.neurons[i-1] @ self.weights[i-1])\n",
    "            \n",
    "        self.epoch_history.append(self.neurons[-1][self.one_or_zero:])\n",
    "        self.error_history.append(\n",
    "            np.abs((self._result - self.epoch_history[-1]) / self._result)\n",
    "        )\n",
    "\n",
    "    def _back_propagate(self, learning_rate):\n",
    "        \"\"\"\n",
    "        Correct previous iteration\n",
    "        \"\"\"\n",
    "        l = learning_rate\n",
    "        last_delta_w = (self.neurons[-1][self.one_or_zero:]\n",
    "                        - self._result)\n",
    "                    * self.sigm_der(self.neurons[-1][self.one_or_zero:])\n",
    "        \n",
    "        for i in range(len(self._npl) - 2, -1, -1):\n",
    "            correction = np.transpose([self.neurons[i]]) @ ([last_delta_w]) * l\n",
    "            self.weights[i] -= correction\n",
    "            last_delta_w = (\n",
    "                (last_delta_w @ self.weights[i].T)\n",
    "                * self.sigm_der(self.neurons[i])\n",
    "            )[self.one_or_zero:]\n",
    "\n",
    "    def train(self,\n",
    "              inputs,\n",
    "              outputs,\n",
    "              acceptable_error=0.01,\n",
    "              learning_rate=0.1,\n",
    "              max_epoch_iteration=5000):\n",
    "        \"\"\"\n",
    "        Train function\n",
    "        Make forward step and correct weights.\n",
    "        Loop that untill error will be small enough.\n",
    "        Limit maximum number of epochs.\n",
    "        \"\"\"\n",
    "        i = 1\n",
    "        inp_outps = list(zip(inputs, outputs))\n",
    "        enought = False\n",
    "        while (i < max_epoch_iteration) and (not enought):\n",
    "            for inp, outp in inp_outps:\n",
    "                self.neurons[0][self.one_or_zero:] = np.array(inp)\n",
    "                self._result = np.array(outp)\n",
    "                self._step_forward()\n",
    "                self._back_propagate(learning_rate)\n",
    "            \n",
    "            if self.error_history[-1] <= acceptable_error:\n",
    "                enought = True\n",
    "                break\n",
    "            i += 1\n",
    "            np.random.shuffle(inp_outps)\n",
    "        return i\n",
    "    \n",
    "    def predict(self, input_vector):\n",
    "        \"\"\"\n",
    "        Predict input vector with current weights\n",
    "        \"\"\"\n",
    "        self.neurons[0][self.one_or_zero:] = np.array(input_vector)\n",
    "        self._step_forward()\n",
    "        return self.neurons[-1][self.one_or_zero:]"
   ]
  },
  {
   "cell_type": "code",
   "execution_count": 48,
   "metadata": {},
   "outputs": [],
   "source": [
    "def visualize(NN, test_predict, inp_outps_count=1):\n",
    "    history = pd.DataFrame({\n",
    "        \"$$y_i$$\": NN.epoch_history[::inp_outps_count],\n",
    "        \"$$dn_i$$\": NN.error_history[::inp_outps_count],\n",
    "    })\n",
    "    history.index += 1\n",
    "    display(Markdown(\"## Результати роботи програми на кожній ітерації\"))\n",
    "    display(history)\n",
    "\n",
    "    plt.figure(figsize=(11,5))\n",
    "    plt.plot(history.index, history[\"$$dn_i$$\"])\n",
    "    plt.xlabel('Epoch')\n",
    "    plt.ylabel('Loss')\n",
    "    display(Markdown(\"## Похибка навчання на кожній ітерації\"))\n",
    "    plt.show()\n",
    "\n",
    "    probability = NN.predict(test_predict)[0]\n",
    "    display(Markdown(\"## Режим розпізнавання\"))\n",
    "    display(Markdown(f\"Вхідні дані: {test_predict}\"))\n",
    "    display(Markdown(f\"Результат: {probability}\"))"
   ]
  },
  {
   "cell_type": "markdown",
   "metadata": {},
   "source": [
    "_Частина 2_\n",
    "\n",
    "Завдання: розробити програмне забезпечення для реалізації елементарного\n",
    "двошарового персептрону із структурою 1-1-1.\n",
    "\n",
    "Передбачити режим навчання\n",
    "на одному навчальному прикладі та режим розпізнавання.\n"
   ]
  },
  {
   "cell_type": "code",
   "execution_count": 49,
   "metadata": {},
   "outputs": [],
   "source": [
    "perceptron2 = NeuralNetwork([1, 1, 1], add_bias=False)"
   ]
  },
  {
   "cell_type": "markdown",
   "metadata": {},
   "source": [
    "Навчальні приклади"
   ]
  },
  {
   "cell_type": "code",
   "execution_count": 50,
   "metadata": {},
   "outputs": [],
   "source": [
    "inputs, outputs = [[2]], [[0.5]]"
   ]
  },
  {
   "cell_type": "markdown",
   "metadata": {},
   "source": [
    "Навчання"
   ]
  },
  {
   "cell_type": "code",
   "execution_count": 51,
   "metadata": {},
   "outputs": [
    {
     "name": "stdout",
     "output_type": "stream",
     "text": [
      "Epoch number 22\n",
      "Final error [0.09837481]\n"
     ]
    }
   ],
   "source": [
    "epoch_number = perceptron2.train(inputs,\n",
    "                                 outputs,\n",
    "                                 acceptable_error=0.1,\n",
    "                                 learning_rate=1,\n",
    "                                 max_epoch_iteration=1000)\n",
    "print(\"Epoch number\", epoch_number)\n",
    "print(\"Final error\", perceptron2.error_history[-1])"
   ]
  },
  {
   "cell_type": "code",
   "execution_count": 52,
   "metadata": {},
   "outputs": [
    {
     "data": {
      "text/markdown": [
       "## Результати роботи програми на кожній ітерації"
      ],
      "text/plain": [
       "<IPython.core.display.Markdown object>"
      ]
     },
     "metadata": {},
     "output_type": "display_data"
    },
    {
     "data": {
      "text/html": [
       "<div>\n",
       "<style scoped>\n",
       "    .dataframe tbody tr th:only-of-type {\n",
       "        vertical-align: middle;\n",
       "    }\n",
       "\n",
       "    .dataframe tbody tr th {\n",
       "        vertical-align: top;\n",
       "    }\n",
       "\n",
       "    .dataframe thead th {\n",
       "        text-align: right;\n",
       "    }\n",
       "</style>\n",
       "<table border=\"1\" class=\"dataframe\">\n",
       "  <thead>\n",
       "    <tr style=\"text-align: right;\">\n",
       "      <th></th>\n",
       "      <th>$$y_i$$</th>\n",
       "      <th>$$dn_i$$</th>\n",
       "    </tr>\n",
       "  </thead>\n",
       "  <tbody>\n",
       "    <tr>\n",
       "      <th>1</th>\n",
       "      <td>[0.5491874071585257]</td>\n",
       "      <td>[0.20252648954346442]</td>\n",
       "    </tr>\n",
       "    <tr>\n",
       "      <th>2</th>\n",
       "      <td>[0.5491874071585257]</td>\n",
       "      <td>[0.19551503908246826]</td>\n",
       "    </tr>\n",
       "    <tr>\n",
       "      <th>3</th>\n",
       "      <td>[0.5491874071585257]</td>\n",
       "      <td>[0.18876371496398003]</td>\n",
       "    </tr>\n",
       "    <tr>\n",
       "      <th>4</th>\n",
       "      <td>[0.5491874071585257]</td>\n",
       "      <td>[0.18226253845539464]</td>\n",
       "    </tr>\n",
       "    <tr>\n",
       "      <th>5</th>\n",
       "      <td>[0.5491874071585257]</td>\n",
       "      <td>[0.17600176294364878]</td>\n",
       "    </tr>\n",
       "    <tr>\n",
       "      <th>6</th>\n",
       "      <td>[0.5491874071585257]</td>\n",
       "      <td>[0.1699719096024208]</td>\n",
       "    </tr>\n",
       "    <tr>\n",
       "      <th>7</th>\n",
       "      <td>[0.5491874071585257]</td>\n",
       "      <td>[0.16416379316254948]</td>\n",
       "    </tr>\n",
       "    <tr>\n",
       "      <th>8</th>\n",
       "      <td>[0.5491874071585257]</td>\n",
       "      <td>[0.1585685394556935]</td>\n",
       "    </tr>\n",
       "    <tr>\n",
       "      <th>9</th>\n",
       "      <td>[0.5491874071585257]</td>\n",
       "      <td>[0.15317759619206184]</td>\n",
       "    </tr>\n",
       "    <tr>\n",
       "      <th>10</th>\n",
       "      <td>[0.5491874071585257]</td>\n",
       "      <td>[0.14798273823601993]</td>\n",
       "    </tr>\n",
       "    <tr>\n",
       "      <th>11</th>\n",
       "      <td>[0.5491874071585257]</td>\n",
       "      <td>[0.1429760684622179]</td>\n",
       "    </tr>\n",
       "    <tr>\n",
       "      <th>12</th>\n",
       "      <td>[0.5491874071585257]</td>\n",
       "      <td>[0.13815001511140346]</td>\n",
       "    </tr>\n",
       "    <tr>\n",
       "      <th>13</th>\n",
       "      <td>[0.5491874071585257]</td>\n",
       "      <td>[0.1334973264197863]</td>\n",
       "    </tr>\n",
       "    <tr>\n",
       "      <th>14</th>\n",
       "      <td>[0.5491874071585257]</td>\n",
       "      <td>[0.12901106316829436]</td>\n",
       "    </tr>\n",
       "    <tr>\n",
       "      <th>15</th>\n",
       "      <td>[0.5491874071585257]</td>\n",
       "      <td>[0.12468458968729879]</td>\n",
       "    </tr>\n",
       "    <tr>\n",
       "      <th>16</th>\n",
       "      <td>[0.5491874071585257]</td>\n",
       "      <td>[0.1205115637570815]</td>\n",
       "    </tr>\n",
       "    <tr>\n",
       "      <th>17</th>\n",
       "      <td>[0.5491874071585257]</td>\n",
       "      <td>[0.11648592576295558]</td>\n",
       "    </tr>\n",
       "    <tr>\n",
       "      <th>18</th>\n",
       "      <td>[0.5491874071585257]</td>\n",
       "      <td>[0.11260188739501342]</td>\n",
       "    </tr>\n",
       "    <tr>\n",
       "      <th>19</th>\n",
       "      <td>[0.5491874071585257]</td>\n",
       "      <td>[0.10885392012443362]</td>\n",
       "    </tr>\n",
       "    <tr>\n",
       "      <th>20</th>\n",
       "      <td>[0.5491874071585257]</td>\n",
       "      <td>[0.10523674363974411]</td>\n",
       "    </tr>\n",
       "    <tr>\n",
       "      <th>21</th>\n",
       "      <td>[0.5491874071585257]</td>\n",
       "      <td>[0.10174531438606915]</td>\n",
       "    </tr>\n",
       "    <tr>\n",
       "      <th>22</th>\n",
       "      <td>[0.5491874071585257]</td>\n",
       "      <td>[0.0983748143170513]</td>\n",
       "    </tr>\n",
       "  </tbody>\n",
       "</table>\n",
       "</div>"
      ],
      "text/plain": [
       "                 $$y_i$$               $$dn_i$$\n",
       "1   [0.5491874071585257]  [0.20252648954346442]\n",
       "2   [0.5491874071585257]  [0.19551503908246826]\n",
       "3   [0.5491874071585257]  [0.18876371496398003]\n",
       "4   [0.5491874071585257]  [0.18226253845539464]\n",
       "5   [0.5491874071585257]  [0.17600176294364878]\n",
       "6   [0.5491874071585257]   [0.1699719096024208]\n",
       "7   [0.5491874071585257]  [0.16416379316254948]\n",
       "8   [0.5491874071585257]   [0.1585685394556935]\n",
       "9   [0.5491874071585257]  [0.15317759619206184]\n",
       "10  [0.5491874071585257]  [0.14798273823601993]\n",
       "11  [0.5491874071585257]   [0.1429760684622179]\n",
       "12  [0.5491874071585257]  [0.13815001511140346]\n",
       "13  [0.5491874071585257]   [0.1334973264197863]\n",
       "14  [0.5491874071585257]  [0.12901106316829436]\n",
       "15  [0.5491874071585257]  [0.12468458968729879]\n",
       "16  [0.5491874071585257]   [0.1205115637570815]\n",
       "17  [0.5491874071585257]  [0.11648592576295558]\n",
       "18  [0.5491874071585257]  [0.11260188739501342]\n",
       "19  [0.5491874071585257]  [0.10885392012443362]\n",
       "20  [0.5491874071585257]  [0.10523674363974411]\n",
       "21  [0.5491874071585257]  [0.10174531438606915]\n",
       "22  [0.5491874071585257]   [0.0983748143170513]"
      ]
     },
     "metadata": {},
     "output_type": "display_data"
    },
    {
     "data": {
      "text/markdown": [
       "## Похибка навчання на кожній ітерації"
      ],
      "text/plain": [
       "<IPython.core.display.Markdown object>"
      ]
     },
     "metadata": {},
     "output_type": "display_data"
    },
    {
     "data": {
      "image/png": "[encoded data removed]",
      "text/plain": [
       "<Figure size 792x360 with 1 Axes>"
      ]
     },
     "metadata": {
      "needs_background": "light"
     },
     "output_type": "display_data"
    },
    {
     "data": {
      "text/markdown": [
       "## Режим розпізнавання"
      ],
      "text/plain": [
       "<IPython.core.display.Markdown object>"
      ]
     },
     "metadata": {},
     "output_type": "display_data"
    },
    {
     "data": {
      "text/markdown": [
       "Вхідні дані: [2]"
      ],
      "text/plain": [
       "<IPython.core.display.Markdown object>"
      ]
     },
     "metadata": {},
     "output_type": "display_data"
    },
    {
     "data": {
      "text/markdown": [
       "Результат: 0.5475603199708622"
      ],
      "text/plain": [
       "<IPython.core.display.Markdown object>"
      ]
     },
     "metadata": {},
     "output_type": "display_data"
    }
   ],
   "source": [
    "visualize(perceptron2, [2])"
   ]
  },
  {
   "cell_type": "markdown",
   "metadata": {},
   "source": [
    "_Частина 3_\n",
    "\n",
    "Завдання: розробити програмне забезпечення для реалізації двошарового персептрону із структурою 2-3-1.\n",
    "\n",
    "Передбачити режим навчання «ON-LINE» та режим розпізнавання.\n",
    "\n",
    "Піддослідна функція $х_1+х_2=у$"
   ]
  },
  {
   "cell_type": "markdown",
   "metadata": {},
   "source": [
    "Generate train data"
   ]
  },
  {
   "cell_type": "code",
   "execution_count": 53,
   "metadata": {},
   "outputs": [
    {
     "name": "stdout",
     "output_type": "stream",
     "text": [
      "([0.281, 0.573], [0.854])\n",
      "([0.47, 0.26], [0.73])\n",
      "([0.326, -0.231], [0.095])\n",
      "([0.25, 0.259], [0.509])\n",
      "([0.437, 0.013], [0.45])\n",
      "([0.736, -0.306], [0.43])\n",
      "([0.094, 0.427], [0.521])\n",
      "([0.158, 0.571], [0.729])\n",
      "([0.687, -0.122], [0.565])\n",
      "([0.446, 0.135], [0.581])\n",
      "([0.599, -0.141], [0.458])\n",
      "([0.484, 0.48], [0.964])\n",
      "([0.128, 0.818], [0.946])\n",
      "([0.555, 0.441], [0.996])\n",
      "([0.578, -0.069], [0.509])\n",
      "([0.437, -0.183], [0.254])\n",
      "([0.788, -0.399], [0.389])\n",
      "([0.509, 0.402], [0.911])\n",
      "([0.798, -0.382], [0.416])\n",
      "([0.679, 0.264], [0.943])\n",
      "([0.927, -0.145], [0.782])\n",
      "([0.691, 0.101], [0.792])\n",
      "([0.729, 0.182], [0.911])\n",
      "([0.314, -0.193], [0.121])\n",
      "([0.646, -0.553], [0.093])\n",
      "([0.384, 0.012], [0.396])\n",
      "([0.625, 0.005], [0.63])\n",
      "([0.359, -0.046], [0.313])\n",
      "([0.06, 0.654], [0.714])\n",
      "([0.812, -0.111], [0.701])\n",
      "([0.327, -0.095], [0.232])\n",
      "([0.197, 0.711], [0.908])\n",
      "([0.828, -0.129], [0.699])\n",
      "([0.026, 0.842], [0.868])\n",
      "([0.683, -0.528], [0.155])\n",
      "([0.394, 0.391], [0.785])\n",
      "([0.195, 0.348], [0.543])\n",
      "([0.705, -0.58], [0.125])\n",
      "([0.883, -0.524], [0.359])\n",
      "([0.996, -0.864], [0.132])\n",
      "([0.828, -0.034], [0.794])\n",
      "([0.073, 0.524], [0.597])\n",
      "([0.493, -0.442], [0.051])\n",
      "([0.411, -0.23], [0.181])\n",
      "([0.692, -0.526], [0.166])\n",
      "([0.398, 0.351], [0.749])\n",
      "([0.931, -0.345], [0.586])\n",
      "([0.763, 0.063], [0.826])\n",
      "([0.104, 0.693], [0.797])\n",
      "([0.512, 0.119], [0.631])\n",
      "([0.289, 0.063], [0.352])\n",
      "([0.953, -0.946], [0.007])\n",
      "([0.233, 0.543], [0.776])\n",
      "([0.178, 0.032], [0.21])\n",
      "([0.584, -0.042], [0.542])\n",
      "([0.339, 0.582], [0.921])\n",
      "([0.022, 0.304], [0.326])\n",
      "([0.706, 0.068], [0.774])\n",
      "([0.205, 0.6], [0.805])\n",
      "([0.598, -0.565], [0.033])\n",
      "([0.833, 0.159], [0.992])\n",
      "([0.53, -0.388], [0.142])\n",
      "([0.444, 0.238], [0.682])\n",
      "([0.319, 0.0], [0.319])\n",
      "([0.105, 0.045], [0.15])\n",
      "([0.596, -0.57], [0.026])\n",
      "([0.117, 0.144], [0.261])\n",
      "([0.894, -0.13], [0.764])\n",
      "([0.755, -0.675], [0.08])\n",
      "([0.176, 0.101], [0.277])\n",
      "([0.526, -0.316], [0.21])\n",
      "([0.897, -0.735], [0.162])\n",
      "([0.701, -0.167], [0.534])\n",
      "([0.107, 0.285], [0.392])\n",
      "([0.296, -0.213], [0.083])\n",
      "([0.869, -0.771], [0.098])\n",
      "([0.393, -0.086], [0.307])\n",
      "([0.731, -0.37], [0.361])\n",
      "([0.854, -0.833], [0.021])\n",
      "([0.047, 0.797], [0.844])\n",
      "([0.419, -0.089], [0.33])\n",
      "([0.46, -0.03], [0.43])\n",
      "([0.455, 0.527], [0.982])\n",
      "([0.364, 0.523], [0.887])\n",
      "([0.722, -0.143], [0.579])\n",
      "([0.245, 0.005], [0.25])\n",
      "([0.807, -0.152], [0.655])\n",
      "([0.602, 0.379], [0.981])\n",
      "([0.668, 0.051], [0.719])\n",
      "([0.679, -0.245], [0.434])\n",
      "([0.353, -0.321], [0.032])\n",
      "([0.424, 0.075], [0.499])\n",
      "([0.339, -0.18], [0.159])\n",
      "([0.879, -0.477], [0.402])\n",
      "([0.129, 0.547], [0.676])\n",
      "([0.5, -0.062], [0.438])\n",
      "([0.311, 0.257], [0.568])\n",
      "([0.034, 0.079], [0.113])\n",
      "([0.447, 0.16], [0.607])\n",
      "([0.93, -0.704], [0.226])\n"
     ]
    }
   ],
   "source": [
    "def gen_train(number):\n",
    "    for i in range(number):\n",
    "        x1 = round(np.random.default_rng().uniform(low=0.0, high=1.0), 3)\n",
    "        y = round(np.random.default_rng().uniform(low=0, high=1.0), 3)\n",
    "        x2 = round(y-x1, 3)\n",
    "        yield [x1, x2], y\n",
    "    \n",
    "inputs, outputs = [], []\n",
    "for i, j in gen_train(100):\n",
    "    inputs.append(i)\n",
    "    outputs.append([j])\n",
    "    \n",
    "print(*list(zip(inputs, outputs)), sep='\\n')"
   ]
  },
  {
   "cell_type": "markdown",
   "metadata": {},
   "source": [
    "Train process. Create NN"
   ]
  },
  {
   "cell_type": "code",
   "execution_count": 54,
   "metadata": {},
   "outputs": [
    {
     "name": "stdout",
     "output_type": "stream",
     "text": [
      "Epoch number 17\n",
      "Final error [0.00619811]\n"
     ]
    }
   ],
   "source": [
    "perceptron3 = NeuralNetwork([2, 3, 1], add_bias=True)\n",
    "\n",
    "epoch_number = perceptron3.train(inputs, outputs, acceptable_error=0.01, learning_rate=1, max_epoch_iteration=10000)\n",
    "print(\"Epoch number\", epoch_number)\n",
    "print(\"Final error\", perceptron3.error_history[-1])"
   ]
  },
  {
   "cell_type": "markdown",
   "metadata": {},
   "source": [
    "Predict"
   ]
  },
  {
   "cell_type": "code",
   "execution_count": 55,
   "metadata": {},
   "outputs": [
    {
     "data": {
      "text/markdown": [
       "## Результати роботи програми на кожній ітерації"
      ],
      "text/plain": [
       "<IPython.core.display.Markdown object>"
      ]
     },
     "metadata": {},
     "output_type": "display_data"
    },
    {
     "data": {
      "text/html": [
       "<div>\n",
       "<style scoped>\n",
       "    .dataframe tbody tr th:only-of-type {\n",
       "        vertical-align: middle;\n",
       "    }\n",
       "\n",
       "    .dataframe tbody tr th {\n",
       "        vertical-align: top;\n",
       "    }\n",
       "\n",
       "    .dataframe thead th {\n",
       "        text-align: right;\n",
       "    }\n",
       "</style>\n",
       "<table border=\"1\" class=\"dataframe\">\n",
       "  <thead>\n",
       "    <tr style=\"text-align: right;\">\n",
       "      <th></th>\n",
       "      <th>$$y_i$$</th>\n",
       "      <th>$$dn_i$$</th>\n",
       "    </tr>\n",
       "  </thead>\n",
       "  <tbody>\n",
       "    <tr>\n",
       "      <th>1</th>\n",
       "      <td>[0.7145435556709445]</td>\n",
       "      <td>[0.12910623305468272]</td>\n",
       "    </tr>\n",
       "    <tr>\n",
       "      <th>2</th>\n",
       "      <td>[0.7145435556709445]</td>\n",
       "      <td>[0.025390172167080918]</td>\n",
       "    </tr>\n",
       "    <tr>\n",
       "      <th>3</th>\n",
       "      <td>[0.7145435556709445]</td>\n",
       "      <td>[6.856611490642613]</td>\n",
       "    </tr>\n",
       "    <tr>\n",
       "      <th>4</th>\n",
       "      <td>[0.7145435556709445]</td>\n",
       "      <td>[0.369024972400088]</td>\n",
       "    </tr>\n",
       "    <tr>\n",
       "      <th>5</th>\n",
       "      <td>[0.7145435556709445]</td>\n",
       "      <td>[0.4955458310401903]</td>\n",
       "    </tr>\n",
       "    <tr>\n",
       "      <th>...</th>\n",
       "      <td>...</td>\n",
       "      <td>...</td>\n",
       "    </tr>\n",
       "    <tr>\n",
       "      <th>1696</th>\n",
       "      <td>[0.7145435556709445]</td>\n",
       "      <td>[0.07692118833498275]</td>\n",
       "    </tr>\n",
       "    <tr>\n",
       "      <th>1697</th>\n",
       "      <td>[0.7145435556709445]</td>\n",
       "      <td>[0.009617846501184845]</td>\n",
       "    </tr>\n",
       "    <tr>\n",
       "      <th>1698</th>\n",
       "      <td>[0.7145435556709445]</td>\n",
       "      <td>[0.07343282714203243]</td>\n",
       "    </tr>\n",
       "    <tr>\n",
       "      <th>1699</th>\n",
       "      <td>[0.7145435556709445]</td>\n",
       "      <td>[0.05928317302937366]</td>\n",
       "    </tr>\n",
       "    <tr>\n",
       "      <th>1700</th>\n",
       "      <td>[0.7145435556709445]</td>\n",
       "      <td>[0.006198114504944998]</td>\n",
       "    </tr>\n",
       "  </tbody>\n",
       "</table>\n",
       "<p>1700 rows × 2 columns</p>\n",
       "</div>"
      ],
      "text/plain": [
       "                   $$y_i$$                $$dn_i$$\n",
       "1     [0.7145435556709445]   [0.12910623305468272]\n",
       "2     [0.7145435556709445]  [0.025390172167080918]\n",
       "3     [0.7145435556709445]     [6.856611490642613]\n",
       "4     [0.7145435556709445]     [0.369024972400088]\n",
       "5     [0.7145435556709445]    [0.4955458310401903]\n",
       "...                    ...                     ...\n",
       "1696  [0.7145435556709445]   [0.07692118833498275]\n",
       "1697  [0.7145435556709445]  [0.009617846501184845]\n",
       "1698  [0.7145435556709445]   [0.07343282714203243]\n",
       "1699  [0.7145435556709445]   [0.05928317302937366]\n",
       "1700  [0.7145435556709445]  [0.006198114504944998]\n",
       "\n",
       "[1700 rows x 2 columns]"
      ]
     },
     "metadata": {},
     "output_type": "display_data"
    },
    {
     "data": {
      "text/markdown": [
       "## Похибка навчання на кожній ітерації"
      ],
      "text/plain": [
       "<IPython.core.display.Markdown object>"
      ]
     },
     "metadata": {},
     "output_type": "display_data"
    },
    {
     "data": {
      "image/png": "[encoded data removed]",
      "text/plain": [
       "<Figure size 792x360 with 1 Axes>"
      ]
     },
     "metadata": {
      "needs_background": "light"
     },
     "output_type": "display_data"
    },
    {
     "data": {
      "text/markdown": [
       "## Режим розпізнавання"
      ],
      "text/plain": [
       "<IPython.core.display.Markdown object>"
      ]
     },
     "metadata": {},
     "output_type": "display_data"
    },
    {
     "data": {
      "text/markdown": [
       "Вхідні дані: [0.094, 0.427]"
      ],
      "text/plain": [
       "<IPython.core.display.Markdown object>"
      ]
     },
     "metadata": {},
     "output_type": "display_data"
    },
    {
     "data": {
      "text/markdown": [
       "Результат: 0.5880968907372756"
      ],
      "text/plain": [
       "<IPython.core.display.Markdown object>"
      ]
     },
     "metadata": {},
     "output_type": "display_data"
    }
   ],
   "source": [
    "visualize(perceptron3, inputs[6])"
   ]
  },
  {
   "cell_type": "markdown",
   "metadata": {},
   "source": [
    "Visualise output"
   ]
  },
  {
   "cell_type": "code",
   "execution_count": 56,
   "metadata": {},
   "outputs": [
    {
     "data": {
      "image/png": "[encoded data removed]",
      "text/plain": [
       "<Figure size 720x720 with 1 Axes>"
      ]
     },
     "metadata": {
      "needs_background": "light"
     },
     "output_type": "display_data"
    }
   ],
   "source": [
    "x1 = np.linspace(-1, 1, 100)\n",
    "x2 = np.linspace(-1, 1, 100)\n",
    "xx1, xx2 = np.meshgrid(x1, x2, sparse=False)\n",
    "yy = np.empty(xx1.shape)\n",
    "for i in range(xx1.shape[0]):\n",
    "    for j in range(xx1.shape[1]):\n",
    "        yy[i][j] = perceptron3.predict([xx1[i][j], xx2[i][j]])\n",
    "        \n",
    "# clev = np.arange(0, 1,.001)\n",
    "clev = np.arange(yy.min(),yy.max(),.001)\n",
    "h = plt.contourf(xx1, xx2, yy, clev, cmap='PRGn')\n",
    "plt.axis('scaled')\n",
    "plt.show()"
   ]
  }
 ],
 "metadata": {
  "kernelspec": {
   "display_name": "Python 3 (ipykernel)",
   "language": "python",
   "name": "python3"
  },
  "language_info": {
   "codemirror_mode": {
    "name": "ipython",
    "version": 3
   },
   "file_extension": ".py",
   "mimetype": "text/x-python",
   "name": "python",
   "nbconvert_exporter": "python",
   "pygments_lexer": "ipython3",
   "version": "3.10.1"
  }
 },
 "nbformat": 4,
 "nbformat_minor": 4
}
