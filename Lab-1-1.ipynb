{
 "cells": [
  {
   "cell_type": "code",
   "execution_count": 80,
   "id": "cbc904df",
   "metadata": {},
   "outputs": [],
   "source": [
    "import numpy as np\n",
    "seed = 1"
   ]
  },
  {
   "cell_type": "markdown",
   "id": "9d7070ac",
   "metadata": {},
   "source": [
    "_Частина 1_\n",
    "\n",
    "Завдання: розробити програмне забезпечення для реалізації класичного нейрону.\n",
    "\n",
    "Передбачити режим навчання класичного нейрону на одному навчальному прикладі та режим розпізнавання."
   ]
  },
  {
   "cell_type": "code",
   "execution_count": 81,
   "id": "1e18ba7c",
   "metadata": {},
   "outputs": [],
   "source": [
    "X = np.array(\n",
    "    [1, 3, 5, 7]\n",
    ")\n",
    "Y = np.array(\n",
    "    0.3\n",
    ")\n",
    "dd = 0.1 # acceptable error"
   ]
  },
  {
   "cell_type": "code",
   "execution_count": 83,
   "id": "d0d0b91c",
   "metadata": {},
   "outputs": [],
   "source": [
    "class Neuron:\n",
    "    \"\"\"\n",
    "    Neural neuron mathematic model with sigmoid activation function\n",
    "    \"\"\"\n",
    "\n",
    "    def __init__(self, start_vector, result):\n",
    "        self._inputs = np.array(start_vector)\n",
    "        self._result = result\n",
    "        self.weights = np.random.default_rng(seed).uniform(\n",
    "            low=0,\n",
    "            high=1.0,\n",
    "            size=self._inputs.size,\n",
    "        )\n",
    "        print(f\"{self.weights = }\")\n",
    "        self.epoch_history = []  # same as y_i\n",
    "        self.error_history = []  # same as dn_i\n",
    "        self._step_forward()\n",
    "        \n",
    "\n",
    "    def sigm(self, x):\n",
    "        return 1 / (1 + np.exp(-x))\n",
    "\n",
    "    def sigm_der(self, w):\n",
    "        \"\"\"\n",
    "        Args:\n",
    "            w: the previous output value of the neuron\n",
    "        \"\"\"\n",
    "        return w * (1 - w)\n",
    "\n",
    "    def _step_forward(self):\n",
    "        self.epoch_history.append(\n",
    "            self.sigm(np.dot(self._inputs, self.weights)))\n",
    "        self.error_history.append(\n",
    "            np.abs((self._result - self.epoch_history[-1]) / self._result)\n",
    "        )\n",
    "\n",
    "    def _back_propagate(self):\n",
    "        delta_w = (self._result - self.epoch_history[-1]) * self.sigm_der(self.epoch_history[-1])\n",
    "        correction = np.dot(self._inputs.T, delta_w)\n",
    "        self.weights += correction\n",
    "\n",
    "    def train(self, acceptable_error=0.01, max_epoch_iteration=50000):\n",
    "        i = 1\n",
    "        while (self.error_history[-1] > acceptable_error) and i < max_epoch_iteration:\n",
    "            self._back_propagate()\n",
    "            self._step_forward()\n",
    "            i += 1\n"
   ]
  },
  {
   "cell_type": "code",
   "execution_count": 84,
   "id": "4eaa66e8",
   "metadata": {},
   "outputs": [
    {
     "name": "stdout",
     "output_type": "stream",
     "text": [
      "self.weights = array([0.51182162, 0.9504637 , 0.14415961, 0.94864945])\n",
      "array([ 0.37536938,  0.54110695, -0.53810163, -0.0065163 ])\n"
     ]
    },
    {
     "data": {
      "text/plain": [
       "802"
      ]
     },
     "execution_count": 84,
     "metadata": {},
     "output_type": "execute_result"
    }
   ],
   "source": [
    "single = Neuron(X, Y)\n",
    "single.train(dd)\n",
    "# print(single.error_history)\n",
    "# single.error_history\n",
    "print(repr(single.weights))\n",
    "len(single.error_history)"
   ]
  },
  {
   "cell_type": "code",
   "execution_count": null,
   "id": "d3df9f91",
   "metadata": {},
   "outputs": [],
   "source": []
  }
 ],
 "metadata": {
  "kernelspec": {
   "display_name": "Python 3 (ipykernel)",
   "language": "python",
   "name": "python3"
  },
  "language_info": {
   "codemirror_mode": {
    "name": "ipython",
    "version": 3
   },
   "file_extension": ".py",
   "mimetype": "text/x-python",
   "name": "python",
   "nbconvert_exporter": "python",
   "pygments_lexer": "ipython3",
   "version": "3.9.7"
  }
 },
 "nbformat": 4,
 "nbformat_minor": 5
}
