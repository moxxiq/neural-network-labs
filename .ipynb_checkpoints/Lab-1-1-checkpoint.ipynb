{
 "cells": [
  {
   "cell_type": "code",
   "execution_count": 1,
   "id": "cbc904df",
   "metadata": {},
   "outputs": [],
   "source": [
    "import numpy as np\n",
    "\n",
    "np.random.seed(42)"
   ]
  },
  {
   "cell_type": "markdown",
   "id": "9d7070ac",
   "metadata": {},
   "source": [
    "_Частина 1_\n",
    "\n",
    "Завдання: розробити програмне забезпечення для реалізації класичного нейрону.\n",
    "\n",
    "Передбачити режим навчання класичного нейрону на одному навчальному прикладі та режим розпізнавання."
   ]
  },
  {
   "cell_type": "code",
   "execution_count": 2,
   "id": "1e18ba7c",
   "metadata": {},
   "outputs": [],
   "source": [
    "X = np.array(\n",
    "    [1, 3, 5, 7]\n",
    ")\n",
    "Y = np.array(\n",
    "    [0.3]\n",
    ")\n",
    "dd = 0.1 # acceptable error"
   ]
  },
  {
   "cell_type": "code",
   "execution_count": 3,
   "id": "d0d0b91c",
   "metadata": {},
   "outputs": [],
   "source": [
    "class Neuron:\n",
    "    \"\"\"\n",
    "    Neural neuron mathematic model with sigmoid activation function\n",
    "    \"\"\"\n",
    "    def __init__(self, start_vector, result):\n",
    "        self._inputs = np.array(start_vector)\n",
    "        self._result = result\n",
    "        self._weights = np.random.Generator.normal(\n",
    "            loc=0.5,\n",
    "            scale=1.0,\n",
    "            size=self._x.size,\n",
    "        )\n",
    "        self.epoch_history = [] # same as y_i\n",
    "        self.error_history = [] # same as dn_i\n",
    "        self._step_forward()\n",
    "    \n",
    "    \n",
    "    def sigm(self, x):\n",
    "        return 1 / (1 + np.exp(-x))\n",
    "    \n",
    "    \n",
    "    def sigm_der(self, w):\n",
    "        \"\"\"\n",
    "        Args:\n",
    "            w: the previous output value of the neuron\n",
    "        \"\"\"\n",
    "        return w * (1 - w)\n",
    "    \n",
    "    \n",
    "    def _step_forward(self):\n",
    "        self.epoch_history.append(self.sigm(np.dot(self._inputs, self._weights)))\n",
    "        self.error_history.append(\n",
    "            np.abs((self._result - epoch_history[-1]) / self._result)\n",
    "        )\n",
    "    \n",
    "    \n",
    "    def _back_propagate(self):\n",
    "        delta_w = (self._result - self.epoch_history[-1]) * self.sigm_der(self.epoch_history[-1])\n",
    "        correction = np.dot(self._inputs.T, delta_w)\n",
    "        self._weights += correction\n",
    "    \n",
    "    \n",
    "    def train(self, acceptable_error=0.01, max_epoch_iteration=50000):\n",
    "        i = 1\n",
    "        while (self.error_history[-1] > acceptable_error) and i < max_epoch_iteration:\n",
    "            self._back_propagate()\n",
    "            self._step_forward()\n",
    "            i += 1\n",
    "    def get_current_weights(self):\n",
    "        return self._weights\n",
    "    "
   ]
  },
  {
   "cell_type": "code",
   "execution_count": null,
   "id": "4eaa66e8",
   "metadata": {},
   "outputs": [],
   "source": []
  }
 ],
 "metadata": {
  "kernelspec": {
   "display_name": "Python 3 (ipykernel)",
   "language": "python",
   "name": "python3"
  },
  "language_info": {
   "codemirror_mode": {
    "name": "ipython",
    "version": 3
   },
   "file_extension": ".py",
   "mimetype": "text/x-python",
   "name": "python",
   "nbconvert_exporter": "python",
   "pygments_lexer": "ipython3",
   "version": "3.9.7"
  }
 },
 "nbformat": 4,
 "nbformat_minor": 5
}
